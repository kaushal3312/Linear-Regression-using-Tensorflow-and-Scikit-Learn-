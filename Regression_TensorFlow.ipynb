{
  "nbformat": 4,
  "nbformat_minor": 0,
  "metadata": {
    "colab": {
      "name": "Regression_TensorFlow.ipynb",
      "provenance": [],
      "collapsed_sections": [],
      "machine_shape": "hm",
      "include_colab_link": true
    },
    "kernelspec": {
      "name": "python3",
      "display_name": "Python 3"
    }
  },
  "cells": [
    {
      "cell_type": "markdown",
      "metadata": {
        "id": "view-in-github",
        "colab_type": "text"
      },
      "source": [
        "<a href=\"https://colab.research.google.com/github/kaushal3312/Linear-Regression-using-Tensorflow-and-Scikit-Learn-/blob/main/Regression_TensorFlow.ipynb\" target=\"_parent\"><img src=\"https://colab.research.google.com/assets/colab-badge.svg\" alt=\"Open In Colab\"/></a>"
      ]
    },
    {
      "cell_type": "markdown",
      "metadata": {
        "id": "MJTKuA-wcayA"
      },
      "source": [
        "## Import library python"
      ]
    },
    {
      "cell_type": "code",
      "metadata": {
        "trusted": true,
        "id": "4eQWexlGeC8d",
        "outputId": "fe5d5b80-b7bf-4e34-b9ba-d883c8e14e44",
        "colab": {
          "base_uri": "https://localhost:8080/",
          "height": 530
        }
      },
      "source": [
        "\n",
        "\n",
        "import pandas as pd\n",
        "import numpy as np\n",
        "import matplotlib.pyplot as plt\n",
        "import seaborn as sns\n",
        "sns.set()\n",
        "import tensorflow as tf\n",
        "\n",
        "from tensorflow import keras\n",
        "from tensorflow.keras import layers\n",
        "from tensorflow.keras.layers.experimental import preprocessing\n",
        "import tensorflow.compat.v1 as tf\n",
        "tf.disable_v2_behavior()\n",
        "\n",
        "print(tf.__version__)\n",
        "\n",
        "from sklearn.model_selection import train_test_split\n",
        "from sklearn.preprocessing import StandardScaler\n",
        "\n",
        "from sklearn.linear_model import LinearRegression\n",
        "import statsmodels.api as sm\n",
        "from sklearn.feature_selection import RFE\n",
        "from statsmodels.stats.outliers_influence import variance_inflation_factor\n",
        "from sklearn.metrics import r2_score\n",
        "from sklearn.metrics import mean_squared_error\n",
        "\n",
        "# Make numpy printouts easier to read.\n",
        "np.set_printoptions(precision=3, suppress=True)\n",
        "\n",
        "data = pd.read_csv('https://raw.githubusercontent.com/kaushal3312/Linear-Regression-using-Tensorflow-and-Scikit-Learn-/main/car.csv')\n",
        "data.head()\n",
        "\n"
      ],
      "execution_count": 3,
      "outputs": [
        {
          "output_type": "stream",
          "text": [
            "WARNING:tensorflow:From /usr/local/lib/python3.6/dist-packages/tensorflow/python/compat/v2_compat.py:96: disable_resource_variables (from tensorflow.python.ops.variable_scope) is deprecated and will be removed in a future version.\n",
            "Instructions for updating:\n",
            "non-resource variables are not supported in the long term\n",
            "2.3.0\n"
          ],
          "name": "stdout"
        },
        {
          "output_type": "stream",
          "text": [
            "/usr/local/lib/python3.6/dist-packages/statsmodels/tools/_testing.py:19: FutureWarning: pandas.util.testing is deprecated. Use the functions in the public API at pandas.testing instead.\n",
            "  import pandas.util.testing as tm\n"
          ],
          "name": "stderr"
        },
        {
          "output_type": "execute_result",
          "data": {
            "text/html": [
              "<div>\n",
              "<style scoped>\n",
              "    .dataframe tbody tr th:only-of-type {\n",
              "        vertical-align: middle;\n",
              "    }\n",
              "\n",
              "    .dataframe tbody tr th {\n",
              "        vertical-align: top;\n",
              "    }\n",
              "\n",
              "    .dataframe thead th {\n",
              "        text-align: right;\n",
              "    }\n",
              "</style>\n",
              "<table border=\"1\" class=\"dataframe\">\n",
              "  <thead>\n",
              "    <tr style=\"text-align: right;\">\n",
              "      <th></th>\n",
              "      <th>Make</th>\n",
              "      <th>Model</th>\n",
              "      <th>Year</th>\n",
              "      <th>Engine Fuel Type</th>\n",
              "      <th>Engine HP</th>\n",
              "      <th>Engine Cylinders</th>\n",
              "      <th>Transmission Type</th>\n",
              "      <th>Driven_Wheels</th>\n",
              "      <th>Number of Doors</th>\n",
              "      <th>Market Category</th>\n",
              "      <th>Vehicle Size</th>\n",
              "      <th>Vehicle Style</th>\n",
              "      <th>highway MPG</th>\n",
              "      <th>city mpg</th>\n",
              "      <th>Popularity</th>\n",
              "      <th>MSRP</th>\n",
              "    </tr>\n",
              "  </thead>\n",
              "  <tbody>\n",
              "    <tr>\n",
              "      <th>0</th>\n",
              "      <td>BMW</td>\n",
              "      <td>1 Series M</td>\n",
              "      <td>2011</td>\n",
              "      <td>premium unleaded (required)</td>\n",
              "      <td>335.0</td>\n",
              "      <td>6.0</td>\n",
              "      <td>MANUAL</td>\n",
              "      <td>rear wheel drive</td>\n",
              "      <td>2.0</td>\n",
              "      <td>Factory Tuner,Luxury,High-Performance</td>\n",
              "      <td>Compact</td>\n",
              "      <td>Coupe</td>\n",
              "      <td>26</td>\n",
              "      <td>19</td>\n",
              "      <td>3916</td>\n",
              "      <td>46135</td>\n",
              "    </tr>\n",
              "    <tr>\n",
              "      <th>1</th>\n",
              "      <td>BMW</td>\n",
              "      <td>1 Series</td>\n",
              "      <td>2011</td>\n",
              "      <td>premium unleaded (required)</td>\n",
              "      <td>300.0</td>\n",
              "      <td>6.0</td>\n",
              "      <td>MANUAL</td>\n",
              "      <td>rear wheel drive</td>\n",
              "      <td>2.0</td>\n",
              "      <td>Luxury,Performance</td>\n",
              "      <td>Compact</td>\n",
              "      <td>Convertible</td>\n",
              "      <td>28</td>\n",
              "      <td>19</td>\n",
              "      <td>3916</td>\n",
              "      <td>40650</td>\n",
              "    </tr>\n",
              "    <tr>\n",
              "      <th>2</th>\n",
              "      <td>BMW</td>\n",
              "      <td>1 Series</td>\n",
              "      <td>2011</td>\n",
              "      <td>premium unleaded (required)</td>\n",
              "      <td>300.0</td>\n",
              "      <td>6.0</td>\n",
              "      <td>MANUAL</td>\n",
              "      <td>rear wheel drive</td>\n",
              "      <td>2.0</td>\n",
              "      <td>Luxury,High-Performance</td>\n",
              "      <td>Compact</td>\n",
              "      <td>Coupe</td>\n",
              "      <td>28</td>\n",
              "      <td>20</td>\n",
              "      <td>3916</td>\n",
              "      <td>36350</td>\n",
              "    </tr>\n",
              "    <tr>\n",
              "      <th>3</th>\n",
              "      <td>BMW</td>\n",
              "      <td>1 Series</td>\n",
              "      <td>2011</td>\n",
              "      <td>premium unleaded (required)</td>\n",
              "      <td>230.0</td>\n",
              "      <td>6.0</td>\n",
              "      <td>MANUAL</td>\n",
              "      <td>rear wheel drive</td>\n",
              "      <td>2.0</td>\n",
              "      <td>Luxury,Performance</td>\n",
              "      <td>Compact</td>\n",
              "      <td>Coupe</td>\n",
              "      <td>28</td>\n",
              "      <td>18</td>\n",
              "      <td>3916</td>\n",
              "      <td>29450</td>\n",
              "    </tr>\n",
              "    <tr>\n",
              "      <th>4</th>\n",
              "      <td>BMW</td>\n",
              "      <td>1 Series</td>\n",
              "      <td>2011</td>\n",
              "      <td>premium unleaded (required)</td>\n",
              "      <td>230.0</td>\n",
              "      <td>6.0</td>\n",
              "      <td>MANUAL</td>\n",
              "      <td>rear wheel drive</td>\n",
              "      <td>2.0</td>\n",
              "      <td>Luxury</td>\n",
              "      <td>Compact</td>\n",
              "      <td>Convertible</td>\n",
              "      <td>28</td>\n",
              "      <td>18</td>\n",
              "      <td>3916</td>\n",
              "      <td>34500</td>\n",
              "    </tr>\n",
              "  </tbody>\n",
              "</table>\n",
              "</div>"
            ],
            "text/plain": [
              "  Make       Model  Year  ... city mpg  Popularity   MSRP\n",
              "0  BMW  1 Series M  2011  ...       19        3916  46135\n",
              "1  BMW    1 Series  2011  ...       19        3916  40650\n",
              "2  BMW    1 Series  2011  ...       20        3916  36350\n",
              "3  BMW    1 Series  2011  ...       18        3916  29450\n",
              "4  BMW    1 Series  2011  ...       18        3916  34500\n",
              "\n",
              "[5 rows x 16 columns]"
            ]
          },
          "metadata": {
            "tags": []
          },
          "execution_count": 3
        }
      ]
    },
    {
      "cell_type": "markdown",
      "metadata": {
        "id": "JtBSLDjBdWUB"
      },
      "source": [
        "#**EDA**"
      ]
    },
    {
      "cell_type": "code",
      "metadata": {
        "id": "DaudNTzmaWb8",
        "trusted": true,
        "outputId": "9cee3887-39f5-4ad1-bfa0-4be037170f26",
        "colab": {
          "base_uri": "https://localhost:8080/",
          "height": 408
        }
      },
      "source": [
        "data.head()"
      ],
      "execution_count": 4,
      "outputs": [
        {
          "output_type": "execute_result",
          "data": {
            "text/html": [
              "<div>\n",
              "<style scoped>\n",
              "    .dataframe tbody tr th:only-of-type {\n",
              "        vertical-align: middle;\n",
              "    }\n",
              "\n",
              "    .dataframe tbody tr th {\n",
              "        vertical-align: top;\n",
              "    }\n",
              "\n",
              "    .dataframe thead th {\n",
              "        text-align: right;\n",
              "    }\n",
              "</style>\n",
              "<table border=\"1\" class=\"dataframe\">\n",
              "  <thead>\n",
              "    <tr style=\"text-align: right;\">\n",
              "      <th></th>\n",
              "      <th>Make</th>\n",
              "      <th>Model</th>\n",
              "      <th>Year</th>\n",
              "      <th>Engine Fuel Type</th>\n",
              "      <th>Engine HP</th>\n",
              "      <th>Engine Cylinders</th>\n",
              "      <th>Transmission Type</th>\n",
              "      <th>Driven_Wheels</th>\n",
              "      <th>Number of Doors</th>\n",
              "      <th>Market Category</th>\n",
              "      <th>Vehicle Size</th>\n",
              "      <th>Vehicle Style</th>\n",
              "      <th>highway MPG</th>\n",
              "      <th>city mpg</th>\n",
              "      <th>Popularity</th>\n",
              "      <th>MSRP</th>\n",
              "    </tr>\n",
              "  </thead>\n",
              "  <tbody>\n",
              "    <tr>\n",
              "      <th>0</th>\n",
              "      <td>BMW</td>\n",
              "      <td>1 Series M</td>\n",
              "      <td>2011</td>\n",
              "      <td>premium unleaded (required)</td>\n",
              "      <td>335.0</td>\n",
              "      <td>6.0</td>\n",
              "      <td>MANUAL</td>\n",
              "      <td>rear wheel drive</td>\n",
              "      <td>2.0</td>\n",
              "      <td>Factory Tuner,Luxury,High-Performance</td>\n",
              "      <td>Compact</td>\n",
              "      <td>Coupe</td>\n",
              "      <td>26</td>\n",
              "      <td>19</td>\n",
              "      <td>3916</td>\n",
              "      <td>46135</td>\n",
              "    </tr>\n",
              "    <tr>\n",
              "      <th>1</th>\n",
              "      <td>BMW</td>\n",
              "      <td>1 Series</td>\n",
              "      <td>2011</td>\n",
              "      <td>premium unleaded (required)</td>\n",
              "      <td>300.0</td>\n",
              "      <td>6.0</td>\n",
              "      <td>MANUAL</td>\n",
              "      <td>rear wheel drive</td>\n",
              "      <td>2.0</td>\n",
              "      <td>Luxury,Performance</td>\n",
              "      <td>Compact</td>\n",
              "      <td>Convertible</td>\n",
              "      <td>28</td>\n",
              "      <td>19</td>\n",
              "      <td>3916</td>\n",
              "      <td>40650</td>\n",
              "    </tr>\n",
              "    <tr>\n",
              "      <th>2</th>\n",
              "      <td>BMW</td>\n",
              "      <td>1 Series</td>\n",
              "      <td>2011</td>\n",
              "      <td>premium unleaded (required)</td>\n",
              "      <td>300.0</td>\n",
              "      <td>6.0</td>\n",
              "      <td>MANUAL</td>\n",
              "      <td>rear wheel drive</td>\n",
              "      <td>2.0</td>\n",
              "      <td>Luxury,High-Performance</td>\n",
              "      <td>Compact</td>\n",
              "      <td>Coupe</td>\n",
              "      <td>28</td>\n",
              "      <td>20</td>\n",
              "      <td>3916</td>\n",
              "      <td>36350</td>\n",
              "    </tr>\n",
              "    <tr>\n",
              "      <th>3</th>\n",
              "      <td>BMW</td>\n",
              "      <td>1 Series</td>\n",
              "      <td>2011</td>\n",
              "      <td>premium unleaded (required)</td>\n",
              "      <td>230.0</td>\n",
              "      <td>6.0</td>\n",
              "      <td>MANUAL</td>\n",
              "      <td>rear wheel drive</td>\n",
              "      <td>2.0</td>\n",
              "      <td>Luxury,Performance</td>\n",
              "      <td>Compact</td>\n",
              "      <td>Coupe</td>\n",
              "      <td>28</td>\n",
              "      <td>18</td>\n",
              "      <td>3916</td>\n",
              "      <td>29450</td>\n",
              "    </tr>\n",
              "    <tr>\n",
              "      <th>4</th>\n",
              "      <td>BMW</td>\n",
              "      <td>1 Series</td>\n",
              "      <td>2011</td>\n",
              "      <td>premium unleaded (required)</td>\n",
              "      <td>230.0</td>\n",
              "      <td>6.0</td>\n",
              "      <td>MANUAL</td>\n",
              "      <td>rear wheel drive</td>\n",
              "      <td>2.0</td>\n",
              "      <td>Luxury</td>\n",
              "      <td>Compact</td>\n",
              "      <td>Convertible</td>\n",
              "      <td>28</td>\n",
              "      <td>18</td>\n",
              "      <td>3916</td>\n",
              "      <td>34500</td>\n",
              "    </tr>\n",
              "  </tbody>\n",
              "</table>\n",
              "</div>"
            ],
            "text/plain": [
              "  Make       Model  Year  ... city mpg  Popularity   MSRP\n",
              "0  BMW  1 Series M  2011  ...       19        3916  46135\n",
              "1  BMW    1 Series  2011  ...       19        3916  40650\n",
              "2  BMW    1 Series  2011  ...       20        3916  36350\n",
              "3  BMW    1 Series  2011  ...       18        3916  29450\n",
              "4  BMW    1 Series  2011  ...       18        3916  34500\n",
              "\n",
              "[5 rows x 16 columns]"
            ]
          },
          "metadata": {
            "tags": []
          },
          "execution_count": 4
        }
      ]
    },
    {
      "cell_type": "code",
      "metadata": {
        "id": "TpVOIP2hcUR8",
        "trusted": true,
        "outputId": "9ca92bc5-1346-4598-ae33-a3a8ec8c2557",
        "colab": {
          "base_uri": "https://localhost:8080/",
          "height": 411
        }
      },
      "source": [
        "data.tail()"
      ],
      "execution_count": 5,
      "outputs": [
        {
          "output_type": "execute_result",
          "data": {
            "text/html": [
              "<div>\n",
              "<style scoped>\n",
              "    .dataframe tbody tr th:only-of-type {\n",
              "        vertical-align: middle;\n",
              "    }\n",
              "\n",
              "    .dataframe tbody tr th {\n",
              "        vertical-align: top;\n",
              "    }\n",
              "\n",
              "    .dataframe thead th {\n",
              "        text-align: right;\n",
              "    }\n",
              "</style>\n",
              "<table border=\"1\" class=\"dataframe\">\n",
              "  <thead>\n",
              "    <tr style=\"text-align: right;\">\n",
              "      <th></th>\n",
              "      <th>Make</th>\n",
              "      <th>Model</th>\n",
              "      <th>Year</th>\n",
              "      <th>Engine Fuel Type</th>\n",
              "      <th>Engine HP</th>\n",
              "      <th>Engine Cylinders</th>\n",
              "      <th>Transmission Type</th>\n",
              "      <th>Driven_Wheels</th>\n",
              "      <th>Number of Doors</th>\n",
              "      <th>Market Category</th>\n",
              "      <th>Vehicle Size</th>\n",
              "      <th>Vehicle Style</th>\n",
              "      <th>highway MPG</th>\n",
              "      <th>city mpg</th>\n",
              "      <th>Popularity</th>\n",
              "      <th>MSRP</th>\n",
              "    </tr>\n",
              "  </thead>\n",
              "  <tbody>\n",
              "    <tr>\n",
              "      <th>11909</th>\n",
              "      <td>Acura</td>\n",
              "      <td>ZDX</td>\n",
              "      <td>2012</td>\n",
              "      <td>premium unleaded (required)</td>\n",
              "      <td>300.0</td>\n",
              "      <td>6.0</td>\n",
              "      <td>AUTOMATIC</td>\n",
              "      <td>all wheel drive</td>\n",
              "      <td>4.0</td>\n",
              "      <td>Crossover,Hatchback,Luxury</td>\n",
              "      <td>Midsize</td>\n",
              "      <td>4dr Hatchback</td>\n",
              "      <td>23</td>\n",
              "      <td>16</td>\n",
              "      <td>204</td>\n",
              "      <td>46120</td>\n",
              "    </tr>\n",
              "    <tr>\n",
              "      <th>11910</th>\n",
              "      <td>Acura</td>\n",
              "      <td>ZDX</td>\n",
              "      <td>2012</td>\n",
              "      <td>premium unleaded (required)</td>\n",
              "      <td>300.0</td>\n",
              "      <td>6.0</td>\n",
              "      <td>AUTOMATIC</td>\n",
              "      <td>all wheel drive</td>\n",
              "      <td>4.0</td>\n",
              "      <td>Crossover,Hatchback,Luxury</td>\n",
              "      <td>Midsize</td>\n",
              "      <td>4dr Hatchback</td>\n",
              "      <td>23</td>\n",
              "      <td>16</td>\n",
              "      <td>204</td>\n",
              "      <td>56670</td>\n",
              "    </tr>\n",
              "    <tr>\n",
              "      <th>11911</th>\n",
              "      <td>Acura</td>\n",
              "      <td>ZDX</td>\n",
              "      <td>2012</td>\n",
              "      <td>premium unleaded (required)</td>\n",
              "      <td>300.0</td>\n",
              "      <td>6.0</td>\n",
              "      <td>AUTOMATIC</td>\n",
              "      <td>all wheel drive</td>\n",
              "      <td>4.0</td>\n",
              "      <td>Crossover,Hatchback,Luxury</td>\n",
              "      <td>Midsize</td>\n",
              "      <td>4dr Hatchback</td>\n",
              "      <td>23</td>\n",
              "      <td>16</td>\n",
              "      <td>204</td>\n",
              "      <td>50620</td>\n",
              "    </tr>\n",
              "    <tr>\n",
              "      <th>11912</th>\n",
              "      <td>Acura</td>\n",
              "      <td>ZDX</td>\n",
              "      <td>2013</td>\n",
              "      <td>premium unleaded (recommended)</td>\n",
              "      <td>300.0</td>\n",
              "      <td>6.0</td>\n",
              "      <td>AUTOMATIC</td>\n",
              "      <td>all wheel drive</td>\n",
              "      <td>4.0</td>\n",
              "      <td>Crossover,Hatchback,Luxury</td>\n",
              "      <td>Midsize</td>\n",
              "      <td>4dr Hatchback</td>\n",
              "      <td>23</td>\n",
              "      <td>16</td>\n",
              "      <td>204</td>\n",
              "      <td>50920</td>\n",
              "    </tr>\n",
              "    <tr>\n",
              "      <th>11913</th>\n",
              "      <td>Lincoln</td>\n",
              "      <td>Zephyr</td>\n",
              "      <td>2006</td>\n",
              "      <td>regular unleaded</td>\n",
              "      <td>221.0</td>\n",
              "      <td>6.0</td>\n",
              "      <td>AUTOMATIC</td>\n",
              "      <td>front wheel drive</td>\n",
              "      <td>4.0</td>\n",
              "      <td>Luxury</td>\n",
              "      <td>Midsize</td>\n",
              "      <td>Sedan</td>\n",
              "      <td>26</td>\n",
              "      <td>17</td>\n",
              "      <td>61</td>\n",
              "      <td>28995</td>\n",
              "    </tr>\n",
              "  </tbody>\n",
              "</table>\n",
              "</div>"
            ],
            "text/plain": [
              "          Make   Model  Year  ... city mpg  Popularity   MSRP\n",
              "11909    Acura     ZDX  2012  ...       16         204  46120\n",
              "11910    Acura     ZDX  2012  ...       16         204  56670\n",
              "11911    Acura     ZDX  2012  ...       16         204  50620\n",
              "11912    Acura     ZDX  2013  ...       16         204  50920\n",
              "11913  Lincoln  Zephyr  2006  ...       17          61  28995\n",
              "\n",
              "[5 rows x 16 columns]"
            ]
          },
          "metadata": {
            "tags": []
          },
          "execution_count": 5
        }
      ]
    },
    {
      "cell_type": "code",
      "metadata": {
        "id": "zknc4o2Ta0OS",
        "trusted": true,
        "outputId": "d7b65a99-526a-46e8-d9b0-6ca6189d69aa",
        "colab": {
          "base_uri": "https://localhost:8080/"
        }
      },
      "source": [
        "data.dtypes"
      ],
      "execution_count": 6,
      "outputs": [
        {
          "output_type": "execute_result",
          "data": {
            "text/plain": [
              "Make                  object\n",
              "Model                 object\n",
              "Year                   int64\n",
              "Engine Fuel Type      object\n",
              "Engine HP            float64\n",
              "Engine Cylinders     float64\n",
              "Transmission Type     object\n",
              "Driven_Wheels         object\n",
              "Number of Doors      float64\n",
              "Market Category       object\n",
              "Vehicle Size          object\n",
              "Vehicle Style         object\n",
              "highway MPG            int64\n",
              "city mpg               int64\n",
              "Popularity             int64\n",
              "MSRP                   int64\n",
              "dtype: object"
            ]
          },
          "metadata": {
            "tags": []
          },
          "execution_count": 6
        }
      ]
    },
    {
      "cell_type": "code",
      "metadata": {
        "id": "_qhgFkPVbKy2",
        "trusted": true,
        "outputId": "66f6101b-3c8b-46bb-ec3a-6b7d1ccff1af",
        "colab": {
          "base_uri": "https://localhost:8080/"
        }
      },
      "source": [
        "data.shape"
      ],
      "execution_count": 7,
      "outputs": [
        {
          "output_type": "execute_result",
          "data": {
            "text/plain": [
              "(11914, 16)"
            ]
          },
          "metadata": {
            "tags": []
          },
          "execution_count": 7
        }
      ]
    },
    {
      "cell_type": "code",
      "metadata": {
        "id": "6zDHIh7pdnwx",
        "trusted": true,
        "outputId": "333b3ceb-32ce-4336-f2ff-ddc67c312248",
        "colab": {
          "base_uri": "https://localhost:8080/"
        }
      },
      "source": [
        "data.info()"
      ],
      "execution_count": 8,
      "outputs": [
        {
          "output_type": "stream",
          "text": [
            "<class 'pandas.core.frame.DataFrame'>\n",
            "RangeIndex: 11914 entries, 0 to 11913\n",
            "Data columns (total 16 columns):\n",
            " #   Column             Non-Null Count  Dtype  \n",
            "---  ------             --------------  -----  \n",
            " 0   Make               11914 non-null  object \n",
            " 1   Model              11914 non-null  object \n",
            " 2   Year               11914 non-null  int64  \n",
            " 3   Engine Fuel Type   11911 non-null  object \n",
            " 4   Engine HP          11845 non-null  float64\n",
            " 5   Engine Cylinders   11884 non-null  float64\n",
            " 6   Transmission Type  11914 non-null  object \n",
            " 7   Driven_Wheels      11914 non-null  object \n",
            " 8   Number of Doors    11908 non-null  float64\n",
            " 9   Market Category    8172 non-null   object \n",
            " 10  Vehicle Size       11914 non-null  object \n",
            " 11  Vehicle Style      11914 non-null  object \n",
            " 12  highway MPG        11914 non-null  int64  \n",
            " 13  city mpg           11914 non-null  int64  \n",
            " 14  Popularity         11914 non-null  int64  \n",
            " 15  MSRP               11914 non-null  int64  \n",
            "dtypes: float64(3), int64(5), object(8)\n",
            "memory usage: 1.5+ MB\n"
          ],
          "name": "stdout"
        }
      ]
    },
    {
      "cell_type": "code",
      "metadata": {
        "id": "lrOdarX3k8jl",
        "trusted": true,
        "outputId": "7026c972-e62e-4134-93f4-8dd61ba3ceb3",
        "colab": {
          "base_uri": "https://localhost:8080/",
          "height": 297
        }
      },
      "source": [
        "data.describe()"
      ],
      "execution_count": 9,
      "outputs": [
        {
          "output_type": "execute_result",
          "data": {
            "text/html": [
              "<div>\n",
              "<style scoped>\n",
              "    .dataframe tbody tr th:only-of-type {\n",
              "        vertical-align: middle;\n",
              "    }\n",
              "\n",
              "    .dataframe tbody tr th {\n",
              "        vertical-align: top;\n",
              "    }\n",
              "\n",
              "    .dataframe thead th {\n",
              "        text-align: right;\n",
              "    }\n",
              "</style>\n",
              "<table border=\"1\" class=\"dataframe\">\n",
              "  <thead>\n",
              "    <tr style=\"text-align: right;\">\n",
              "      <th></th>\n",
              "      <th>Year</th>\n",
              "      <th>Engine HP</th>\n",
              "      <th>Engine Cylinders</th>\n",
              "      <th>Number of Doors</th>\n",
              "      <th>highway MPG</th>\n",
              "      <th>city mpg</th>\n",
              "      <th>Popularity</th>\n",
              "      <th>MSRP</th>\n",
              "    </tr>\n",
              "  </thead>\n",
              "  <tbody>\n",
              "    <tr>\n",
              "      <th>count</th>\n",
              "      <td>11914.000000</td>\n",
              "      <td>11845.00000</td>\n",
              "      <td>11884.000000</td>\n",
              "      <td>11908.000000</td>\n",
              "      <td>11914.000000</td>\n",
              "      <td>11914.000000</td>\n",
              "      <td>11914.000000</td>\n",
              "      <td>1.191400e+04</td>\n",
              "    </tr>\n",
              "    <tr>\n",
              "      <th>mean</th>\n",
              "      <td>2010.384338</td>\n",
              "      <td>249.38607</td>\n",
              "      <td>5.628829</td>\n",
              "      <td>3.436093</td>\n",
              "      <td>26.637485</td>\n",
              "      <td>19.733255</td>\n",
              "      <td>1554.911197</td>\n",
              "      <td>4.059474e+04</td>\n",
              "    </tr>\n",
              "    <tr>\n",
              "      <th>std</th>\n",
              "      <td>7.579740</td>\n",
              "      <td>109.19187</td>\n",
              "      <td>1.780559</td>\n",
              "      <td>0.881315</td>\n",
              "      <td>8.863001</td>\n",
              "      <td>8.987798</td>\n",
              "      <td>1441.855347</td>\n",
              "      <td>6.010910e+04</td>\n",
              "    </tr>\n",
              "    <tr>\n",
              "      <th>min</th>\n",
              "      <td>1990.000000</td>\n",
              "      <td>55.00000</td>\n",
              "      <td>0.000000</td>\n",
              "      <td>2.000000</td>\n",
              "      <td>12.000000</td>\n",
              "      <td>7.000000</td>\n",
              "      <td>2.000000</td>\n",
              "      <td>2.000000e+03</td>\n",
              "    </tr>\n",
              "    <tr>\n",
              "      <th>25%</th>\n",
              "      <td>2007.000000</td>\n",
              "      <td>170.00000</td>\n",
              "      <td>4.000000</td>\n",
              "      <td>2.000000</td>\n",
              "      <td>22.000000</td>\n",
              "      <td>16.000000</td>\n",
              "      <td>549.000000</td>\n",
              "      <td>2.100000e+04</td>\n",
              "    </tr>\n",
              "    <tr>\n",
              "      <th>50%</th>\n",
              "      <td>2015.000000</td>\n",
              "      <td>227.00000</td>\n",
              "      <td>6.000000</td>\n",
              "      <td>4.000000</td>\n",
              "      <td>26.000000</td>\n",
              "      <td>18.000000</td>\n",
              "      <td>1385.000000</td>\n",
              "      <td>2.999500e+04</td>\n",
              "    </tr>\n",
              "    <tr>\n",
              "      <th>75%</th>\n",
              "      <td>2016.000000</td>\n",
              "      <td>300.00000</td>\n",
              "      <td>6.000000</td>\n",
              "      <td>4.000000</td>\n",
              "      <td>30.000000</td>\n",
              "      <td>22.000000</td>\n",
              "      <td>2009.000000</td>\n",
              "      <td>4.223125e+04</td>\n",
              "    </tr>\n",
              "    <tr>\n",
              "      <th>max</th>\n",
              "      <td>2017.000000</td>\n",
              "      <td>1001.00000</td>\n",
              "      <td>16.000000</td>\n",
              "      <td>4.000000</td>\n",
              "      <td>354.000000</td>\n",
              "      <td>137.000000</td>\n",
              "      <td>5657.000000</td>\n",
              "      <td>2.065902e+06</td>\n",
              "    </tr>\n",
              "  </tbody>\n",
              "</table>\n",
              "</div>"
            ],
            "text/plain": [
              "               Year    Engine HP  ...    Popularity          MSRP\n",
              "count  11914.000000  11845.00000  ...  11914.000000  1.191400e+04\n",
              "mean    2010.384338    249.38607  ...   1554.911197  4.059474e+04\n",
              "std        7.579740    109.19187  ...   1441.855347  6.010910e+04\n",
              "min     1990.000000     55.00000  ...      2.000000  2.000000e+03\n",
              "25%     2007.000000    170.00000  ...    549.000000  2.100000e+04\n",
              "50%     2015.000000    227.00000  ...   1385.000000  2.999500e+04\n",
              "75%     2016.000000    300.00000  ...   2009.000000  4.223125e+04\n",
              "max     2017.000000   1001.00000  ...   5657.000000  2.065902e+06\n",
              "\n",
              "[8 rows x 8 columns]"
            ]
          },
          "metadata": {
            "tags": []
          },
          "execution_count": 9
        }
      ]
    },
    {
      "cell_type": "markdown",
      "metadata": {
        "id": "EZOCsQAEnYwu"
      },
      "source": [
        "# Dealing with NAN"
      ]
    },
    {
      "cell_type": "code",
      "metadata": {
        "id": "5D5N81irbBWY",
        "trusted": true,
        "outputId": "4560d22a-de87-475a-f159-9a1d6ca5b805",
        "colab": {
          "base_uri": "https://localhost:8080/"
        }
      },
      "source": [
        "data.isnull().sum()"
      ],
      "execution_count": 10,
      "outputs": [
        {
          "output_type": "execute_result",
          "data": {
            "text/plain": [
              "Make                    0\n",
              "Model                   0\n",
              "Year                    0\n",
              "Engine Fuel Type        3\n",
              "Engine HP              69\n",
              "Engine Cylinders       30\n",
              "Transmission Type       0\n",
              "Driven_Wheels           0\n",
              "Number of Doors         6\n",
              "Market Category      3742\n",
              "Vehicle Size            0\n",
              "Vehicle Style           0\n",
              "highway MPG             0\n",
              "city mpg                0\n",
              "Popularity              0\n",
              "MSRP                    0\n",
              "dtype: int64"
            ]
          },
          "metadata": {
            "tags": []
          },
          "execution_count": 10
        }
      ]
    },
    {
      "cell_type": "code",
      "metadata": {
        "id": "sipQTQLtbGnf",
        "trusted": true
      },
      "source": [
        "data.dropna(inplace=True,axis=0)"
      ],
      "execution_count": 12,
      "outputs": []
    },
    {
      "cell_type": "code",
      "metadata": {
        "id": "WQS9bhv7m99a",
        "trusted": true,
        "outputId": "e619fdf6-7e52-46ff-f4da-0e4de1445a52",
        "colab": {
          "base_uri": "https://localhost:8080/"
        }
      },
      "source": [
        "data.isnull().sum()"
      ],
      "execution_count": 13,
      "outputs": [
        {
          "output_type": "execute_result",
          "data": {
            "text/plain": [
              "Make                 0\n",
              "Model                0\n",
              "Year                 0\n",
              "Engine Fuel Type     0\n",
              "Engine HP            0\n",
              "Engine Cylinders     0\n",
              "Transmission Type    0\n",
              "Driven_Wheels        0\n",
              "Number of Doors      0\n",
              "Market Category      0\n",
              "Vehicle Size         0\n",
              "Vehicle Style        0\n",
              "highway MPG          0\n",
              "city mpg             0\n",
              "Popularity           0\n",
              "MSRP                 0\n",
              "dtype: int64"
            ]
          },
          "metadata": {
            "tags": []
          },
          "execution_count": 13
        }
      ]
    },
    {
      "cell_type": "markdown",
      "metadata": {
        "id": "eIbbVbnyuYaK"
      },
      "source": [
        "# Dealing Outlier "
      ]
    },
    {
      "cell_type": "code",
      "metadata": {
        "id": "eesxrKEnnFCa",
        "trusted": true,
        "outputId": "9bff42d5-1933-4993-8676-088d3ee68914",
        "colab": {
          "base_uri": "https://localhost:8080/",
          "height": 298
        }
      },
      "source": [
        "sns.boxplot(data=data,orient='h',palette='Set2')"
      ],
      "execution_count": 14,
      "outputs": [
        {
          "output_type": "execute_result",
          "data": {
            "text/plain": [
              "<matplotlib.axes._subplots.AxesSubplot at 0x7fcb18abb6d8>"
            ]
          },
          "metadata": {
            "tags": []
          },
          "execution_count": 14
        },
        {
          "output_type": "display_data",
          "data": {
            "image/png": "[encoded data removed]",
            "text/plain": [
              "<Figure size 432x288 with 1 Axes>"
            ]
          },
          "metadata": {
            "tags": []
          }
        }
      ]
    },
    {
      "cell_type": "code",
      "metadata": {
        "id": "-i6dcok0oL46",
        "trusted": true
      },
      "source": [
        "data['new msrp'] = np.log1p(data.MSRP)\n",
        "data.drop('MSRP', axis=1, inplace=True)"
      ],
      "execution_count": 15,
      "outputs": []
    },
    {
      "cell_type": "code",
      "metadata": {
        "id": "xBQ2CDzQqB7S",
        "trusted": true,
        "outputId": "c235edc5-34fa-46e6-f3c7-1edf42908347",
        "colab": {
          "base_uri": "https://localhost:8080/",
          "height": 408
        }
      },
      "source": [
        "data.head()"
      ],
      "execution_count": 16,
      "outputs": [
        {
          "output_type": "execute_result",
          "data": {
            "text/html": [
              "<div>\n",
              "<style scoped>\n",
              "    .dataframe tbody tr th:only-of-type {\n",
              "        vertical-align: middle;\n",
              "    }\n",
              "\n",
              "    .dataframe tbody tr th {\n",
              "        vertical-align: top;\n",
              "    }\n",
              "\n",
              "    .dataframe thead th {\n",
              "        text-align: right;\n",
              "    }\n",
              "</style>\n",
              "<table border=\"1\" class=\"dataframe\">\n",
              "  <thead>\n",
              "    <tr style=\"text-align: right;\">\n",
              "      <th></th>\n",
              "      <th>Make</th>\n",
              "      <th>Model</th>\n",
              "      <th>Year</th>\n",
              "      <th>Engine Fuel Type</th>\n",
              "      <th>Engine HP</th>\n",
              "      <th>Engine Cylinders</th>\n",
              "      <th>Transmission Type</th>\n",
              "      <th>Driven_Wheels</th>\n",
              "      <th>Number of Doors</th>\n",
              "      <th>Market Category</th>\n",
              "      <th>Vehicle Size</th>\n",
              "      <th>Vehicle Style</th>\n",
              "      <th>highway MPG</th>\n",
              "      <th>city mpg</th>\n",
              "      <th>Popularity</th>\n",
              "      <th>new msrp</th>\n",
              "    </tr>\n",
              "  </thead>\n",
              "  <tbody>\n",
              "    <tr>\n",
              "      <th>0</th>\n",
              "      <td>BMW</td>\n",
              "      <td>1 Series M</td>\n",
              "      <td>2011</td>\n",
              "      <td>premium unleaded (required)</td>\n",
              "      <td>335.0</td>\n",
              "      <td>6.0</td>\n",
              "      <td>MANUAL</td>\n",
              "      <td>rear wheel drive</td>\n",
              "      <td>2.0</td>\n",
              "      <td>Factory Tuner,Luxury,High-Performance</td>\n",
              "      <td>Compact</td>\n",
              "      <td>Coupe</td>\n",
              "      <td>26</td>\n",
              "      <td>19</td>\n",
              "      <td>3916</td>\n",
              "      <td>10.739349</td>\n",
              "    </tr>\n",
              "    <tr>\n",
              "      <th>1</th>\n",
              "      <td>BMW</td>\n",
              "      <td>1 Series</td>\n",
              "      <td>2011</td>\n",
              "      <td>premium unleaded (required)</td>\n",
              "      <td>300.0</td>\n",
              "      <td>6.0</td>\n",
              "      <td>MANUAL</td>\n",
              "      <td>rear wheel drive</td>\n",
              "      <td>2.0</td>\n",
              "      <td>Luxury,Performance</td>\n",
              "      <td>Compact</td>\n",
              "      <td>Convertible</td>\n",
              "      <td>28</td>\n",
              "      <td>19</td>\n",
              "      <td>3916</td>\n",
              "      <td>10.612779</td>\n",
              "    </tr>\n",
              "    <tr>\n",
              "      <th>2</th>\n",
              "      <td>BMW</td>\n",
              "      <td>1 Series</td>\n",
              "      <td>2011</td>\n",
              "      <td>premium unleaded (required)</td>\n",
              "      <td>300.0</td>\n",
              "      <td>6.0</td>\n",
              "      <td>MANUAL</td>\n",
              "      <td>rear wheel drive</td>\n",
              "      <td>2.0</td>\n",
              "      <td>Luxury,High-Performance</td>\n",
              "      <td>Compact</td>\n",
              "      <td>Coupe</td>\n",
              "      <td>28</td>\n",
              "      <td>20</td>\n",
              "      <td>3916</td>\n",
              "      <td>10.500977</td>\n",
              "    </tr>\n",
              "    <tr>\n",
              "      <th>3</th>\n",
              "      <td>BMW</td>\n",
              "      <td>1 Series</td>\n",
              "      <td>2011</td>\n",
              "      <td>premium unleaded (required)</td>\n",
              "      <td>230.0</td>\n",
              "      <td>6.0</td>\n",
              "      <td>MANUAL</td>\n",
              "      <td>rear wheel drive</td>\n",
              "      <td>2.0</td>\n",
              "      <td>Luxury,Performance</td>\n",
              "      <td>Compact</td>\n",
              "      <td>Coupe</td>\n",
              "      <td>28</td>\n",
              "      <td>18</td>\n",
              "      <td>3916</td>\n",
              "      <td>10.290483</td>\n",
              "    </tr>\n",
              "    <tr>\n",
              "      <th>4</th>\n",
              "      <td>BMW</td>\n",
              "      <td>1 Series</td>\n",
              "      <td>2011</td>\n",
              "      <td>premium unleaded (required)</td>\n",
              "      <td>230.0</td>\n",
              "      <td>6.0</td>\n",
              "      <td>MANUAL</td>\n",
              "      <td>rear wheel drive</td>\n",
              "      <td>2.0</td>\n",
              "      <td>Luxury</td>\n",
              "      <td>Compact</td>\n",
              "      <td>Convertible</td>\n",
              "      <td>28</td>\n",
              "      <td>18</td>\n",
              "      <td>3916</td>\n",
              "      <td>10.448744</td>\n",
              "    </tr>\n",
              "  </tbody>\n",
              "</table>\n",
              "</div>"
            ],
            "text/plain": [
              "  Make       Model  Year  ... city mpg  Popularity   new msrp\n",
              "0  BMW  1 Series M  2011  ...       19        3916  10.739349\n",
              "1  BMW    1 Series  2011  ...       19        3916  10.612779\n",
              "2  BMW    1 Series  2011  ...       20        3916  10.500977\n",
              "3  BMW    1 Series  2011  ...       18        3916  10.290483\n",
              "4  BMW    1 Series  2011  ...       18        3916  10.448744\n",
              "\n",
              "[5 rows x 16 columns]"
            ]
          },
          "metadata": {
            "tags": []
          },
          "execution_count": 16
        }
      ]
    },
    {
      "cell_type": "code",
      "metadata": {
        "id": "1sWU65ifoiKH",
        "trusted": true,
        "outputId": "f174000e-ac01-49f1-853f-f01d2a2f2464",
        "colab": {
          "base_uri": "https://localhost:8080/",
          "height": 285
        }
      },
      "source": [
        "sns.boxplot(data=data,orient='h',palette='Set2')"
      ],
      "execution_count": 17,
      "outputs": [
        {
          "output_type": "execute_result",
          "data": {
            "text/plain": [
              "<matplotlib.axes._subplots.AxesSubplot at 0x7fcb1698a4a8>"
            ]
          },
          "metadata": {
            "tags": []
          },
          "execution_count": 17
        },
        {
          "output_type": "display_data",
          "data": {
            "image/png": "[encoded data removed]",
            "text/plain": [
              "<Figure size 432x288 with 1 Axes>"
            ]
          },
          "metadata": {
            "tags": []
          }
        }
      ]
    },
    {
      "cell_type": "code",
      "metadata": {
        "id": "oH4XSQbHos97",
        "trusted": true,
        "outputId": "648c95b8-4da6-4e60-a3cb-0f18a32ef6a2",
        "colab": {
          "base_uri": "https://localhost:8080/"
        }
      },
      "source": [
        "q1, q3 = np.percentile(data['Popularity'],[25,75])\n",
        "iqr = q3-q1\n",
        "whisker = q3 + (1.5 * iqr)\n",
        "print(whisker)"
      ],
      "execution_count": 18,
      "outputs": [
        {
          "output_type": "stream",
          "text": [
            "4199.0\n"
          ],
          "name": "stdout"
        }
      ]
    },
    {
      "cell_type": "code",
      "metadata": {
        "id": "tv8As1LNrvEw",
        "trusted": true
      },
      "source": [
        "data['Popularity'] = data['Popularity'].clip(upper=whisker)"
      ],
      "execution_count": 19,
      "outputs": []
    },
    {
      "cell_type": "code",
      "metadata": {
        "id": "Xqy4-NqKsKWq",
        "trusted": true,
        "outputId": "17e2e100-d519-4707-f8da-47435fd27dd6",
        "colab": {
          "base_uri": "https://localhost:8080/",
          "height": 285
        }
      },
      "source": [
        "sns.boxplot(data=data,orient='h',palette='Set2')"
      ],
      "execution_count": 20,
      "outputs": [
        {
          "output_type": "execute_result",
          "data": {
            "text/plain": [
              "<matplotlib.axes._subplots.AxesSubplot at 0x7fcb16444780>"
            ]
          },
          "metadata": {
            "tags": []
          },
          "execution_count": 20
        },
        {
          "output_type": "display_data",
          "data": {
            "image/png": "[encoded data removed]",
            "text/plain": [
              "<Figure size 432x288 with 1 Axes>"
            ]
          },
          "metadata": {
            "tags": []
          }
        }
      ]
    },
    {
      "cell_type": "markdown",
      "metadata": {
        "id": "fJ6j7C2962RU"
      },
      "source": [
        "# **creating Label Encoder for categorical variables**"
      ]
    },
    {
      "cell_type": "code",
      "metadata": {
        "id": "frRRUoip5kIb",
        "trusted": true
      },
      "source": [
        "# For Label Encoder data types need to be cat \n",
        "columns_to_convert=['Make','Model','Engine Fuel Type','Transmission Type','Driven_Wheels','Market Category','Vehicle Size','Vehicle Style']\n",
        "data[columns_to_convert] = data[columns_to_convert].astype('category')"
      ],
      "execution_count": 21,
      "outputs": []
    },
    {
      "cell_type": "code",
      "metadata": {
        "id": "lGh4v4K1MEZk",
        "trusted": true,
        "outputId": "1f3eb3d5-46e2-4116-d5a4-5add33ff2847",
        "colab": {
          "base_uri": "https://localhost:8080/"
        }
      },
      "source": [
        "data.dtypes\n"
      ],
      "execution_count": 22,
      "outputs": [
        {
          "output_type": "execute_result",
          "data": {
            "text/plain": [
              "Make                 category\n",
              "Model                category\n",
              "Year                    int64\n",
              "Engine Fuel Type     category\n",
              "Engine HP             float64\n",
              "Engine Cylinders      float64\n",
              "Transmission Type    category\n",
              "Driven_Wheels        category\n",
              "Number of Doors       float64\n",
              "Market Category      category\n",
              "Vehicle Size         category\n",
              "Vehicle Style        category\n",
              "highway MPG             int64\n",
              "city mpg                int64\n",
              "Popularity              int64\n",
              "new msrp              float64\n",
              "dtype: object"
            ]
          },
          "metadata": {
            "tags": []
          },
          "execution_count": 22
        }
      ]
    },
    {
      "cell_type": "code",
      "metadata": {
        "id": "Eknl6dHcKUJO",
        "trusted": true
      },
      "source": [
        " # Import label encoder\n",
        "from sklearn import preprocessing\n",
        "  \n",
        "# label_encoder object knows how to understand word labels.\n",
        "label_encoder = preprocessing.LabelEncoder()\n",
        "  \n",
        "# Encode labels in column 'species'.\n",
        "for col in ['Make','Model','Engine Fuel Type','Transmission Type','Driven_Wheels','Market Category','Vehicle Size','Vehicle Style']: data[col] = label_encoder.fit_transform(data[col])\n"
      ],
      "execution_count": 23,
      "outputs": []
    },
    {
      "cell_type": "code",
      "metadata": {
        "id": "EGd6vLEq_By-",
        "trusted": true,
        "outputId": "8546cd68-5a7c-42e9-c8f0-2fa92312156f",
        "colab": {
          "base_uri": "https://localhost:8080/",
          "height": 221
        }
      },
      "source": [
        "data.head()\n"
      ],
      "execution_count": 24,
      "outputs": [
        {
          "output_type": "execute_result",
          "data": {
            "text/html": [
              "<div>\n",
              "<style scoped>\n",
              "    .dataframe tbody tr th:only-of-type {\n",
              "        vertical-align: middle;\n",
              "    }\n",
              "\n",
              "    .dataframe tbody tr th {\n",
              "        vertical-align: top;\n",
              "    }\n",
              "\n",
              "    .dataframe thead th {\n",
              "        text-align: right;\n",
              "    }\n",
              "</style>\n",
              "<table border=\"1\" class=\"dataframe\">\n",
              "  <thead>\n",
              "    <tr style=\"text-align: right;\">\n",
              "      <th></th>\n",
              "      <th>Make</th>\n",
              "      <th>Model</th>\n",
              "      <th>Year</th>\n",
              "      <th>Engine Fuel Type</th>\n",
              "      <th>Engine HP</th>\n",
              "      <th>Engine Cylinders</th>\n",
              "      <th>Transmission Type</th>\n",
              "      <th>Driven_Wheels</th>\n",
              "      <th>Number of Doors</th>\n",
              "      <th>Market Category</th>\n",
              "      <th>Vehicle Size</th>\n",
              "      <th>Vehicle Style</th>\n",
              "      <th>highway MPG</th>\n",
              "      <th>city mpg</th>\n",
              "      <th>Popularity</th>\n",
              "      <th>new msrp</th>\n",
              "    </tr>\n",
              "  </thead>\n",
              "  <tbody>\n",
              "    <tr>\n",
              "      <th>0</th>\n",
              "      <td>4</td>\n",
              "      <td>1</td>\n",
              "      <td>2011</td>\n",
              "      <td>6</td>\n",
              "      <td>335.0</td>\n",
              "      <td>6.0</td>\n",
              "      <td>3</td>\n",
              "      <td>3</td>\n",
              "      <td>2.0</td>\n",
              "      <td>37</td>\n",
              "      <td>0</td>\n",
              "      <td>8</td>\n",
              "      <td>26</td>\n",
              "      <td>19</td>\n",
              "      <td>3916</td>\n",
              "      <td>10.739349</td>\n",
              "    </tr>\n",
              "    <tr>\n",
              "      <th>1</th>\n",
              "      <td>4</td>\n",
              "      <td>0</td>\n",
              "      <td>2011</td>\n",
              "      <td>6</td>\n",
              "      <td>300.0</td>\n",
              "      <td>6.0</td>\n",
              "      <td>3</td>\n",
              "      <td>3</td>\n",
              "      <td>2.0</td>\n",
              "      <td>66</td>\n",
              "      <td>0</td>\n",
              "      <td>6</td>\n",
              "      <td>28</td>\n",
              "      <td>19</td>\n",
              "      <td>3916</td>\n",
              "      <td>10.612779</td>\n",
              "    </tr>\n",
              "    <tr>\n",
              "      <th>2</th>\n",
              "      <td>4</td>\n",
              "      <td>0</td>\n",
              "      <td>2011</td>\n",
              "      <td>6</td>\n",
              "      <td>300.0</td>\n",
              "      <td>6.0</td>\n",
              "      <td>3</td>\n",
              "      <td>3</td>\n",
              "      <td>2.0</td>\n",
              "      <td>63</td>\n",
              "      <td>0</td>\n",
              "      <td>8</td>\n",
              "      <td>28</td>\n",
              "      <td>20</td>\n",
              "      <td>3916</td>\n",
              "      <td>10.500977</td>\n",
              "    </tr>\n",
              "    <tr>\n",
              "      <th>3</th>\n",
              "      <td>4</td>\n",
              "      <td>0</td>\n",
              "      <td>2011</td>\n",
              "      <td>6</td>\n",
              "      <td>230.0</td>\n",
              "      <td>6.0</td>\n",
              "      <td>3</td>\n",
              "      <td>3</td>\n",
              "      <td>2.0</td>\n",
              "      <td>66</td>\n",
              "      <td>0</td>\n",
              "      <td>8</td>\n",
              "      <td>28</td>\n",
              "      <td>18</td>\n",
              "      <td>3916</td>\n",
              "      <td>10.290483</td>\n",
              "    </tr>\n",
              "    <tr>\n",
              "      <th>4</th>\n",
              "      <td>4</td>\n",
              "      <td>0</td>\n",
              "      <td>2011</td>\n",
              "      <td>6</td>\n",
              "      <td>230.0</td>\n",
              "      <td>6.0</td>\n",
              "      <td>3</td>\n",
              "      <td>3</td>\n",
              "      <td>2.0</td>\n",
              "      <td>62</td>\n",
              "      <td>0</td>\n",
              "      <td>6</td>\n",
              "      <td>28</td>\n",
              "      <td>18</td>\n",
              "      <td>3916</td>\n",
              "      <td>10.448744</td>\n",
              "    </tr>\n",
              "  </tbody>\n",
              "</table>\n",
              "</div>"
            ],
            "text/plain": [
              "   Make  Model  Year  ...  city mpg  Popularity   new msrp\n",
              "0     4      1  2011  ...        19        3916  10.739349\n",
              "1     4      0  2011  ...        19        3916  10.612779\n",
              "2     4      0  2011  ...        20        3916  10.500977\n",
              "3     4      0  2011  ...        18        3916  10.290483\n",
              "4     4      0  2011  ...        18        3916  10.448744\n",
              "\n",
              "[5 rows x 16 columns]"
            ]
          },
          "metadata": {
            "tags": []
          },
          "execution_count": 24
        }
      ]
    },
    {
      "cell_type": "code",
      "metadata": {
        "id": "DVkw6C_B_Fmv",
        "trusted": true,
        "outputId": "32c2e5d6-fb73-4b87-d089-9ba5c0373a2d",
        "colab": {
          "base_uri": "https://localhost:8080/"
        }
      },
      "source": [
        "data.shape"
      ],
      "execution_count": 25,
      "outputs": [
        {
          "output_type": "execute_result",
          "data": {
            "text/plain": [
              "(8084, 16)"
            ]
          },
          "metadata": {
            "tags": []
          },
          "execution_count": 25
        }
      ]
    },
    {
      "cell_type": "markdown",
      "metadata": {
        "id": "DVAfvr_zBhrp"
      },
      "source": [
        "#correaltion\n",
        "\n",
        "\n",
        "\n"
      ]
    },
    {
      "cell_type": "code",
      "metadata": {
        "id": "9r1yO4UjBfc8",
        "trusted": true,
        "outputId": "626a98d6-77d5-4b9a-b7ea-7618eccd41dc",
        "colab": {
          "base_uri": "https://localhost:8080/",
          "height": 851
        }
      },
      "source": [
        "import seaborn as sns\n",
        "corrmat = data.corr()\n",
        "top_corr_features = corrmat.index\n",
        "plt.figure(figsize=(13,13))\n",
        "g=sns.heatmap(data[top_corr_features].corr(),annot=True,cmap='rainbow',linewidths=3)\n"
      ],
      "execution_count": 26,
      "outputs": [
        {
          "output_type": "display_data",
          "data": {
            "image/png": "[encoded data removed]",
            "text/plain": [
              "<Figure size 936x936 with 2 Axes>"
            ]
          },
          "metadata": {
            "tags": []
          }
        }
      ]
    },
    {
      "cell_type": "code",
      "metadata": {
        "id": "0TtWuurOWbvy",
        "trusted": true,
        "outputId": "76a9038f-5036-4320-d947-2d52434b19b7",
        "colab": {
          "base_uri": "https://localhost:8080/"
        }
      },
      "source": [
        "X = data.corr()\n",
        "X['new msrp'].sort_values(ascending=False)"
      ],
      "execution_count": 27,
      "outputs": [
        {
          "output_type": "execute_result",
          "data": {
            "text/plain": [
              "new msrp             1.000000\n",
              "Engine HP            0.705369\n",
              "Year                 0.658258\n",
              "Engine Cylinders     0.496731\n",
              "Vehicle Size         0.117713\n",
              "Vehicle Style        0.086207\n",
              "Model                0.062594\n",
              "Popularity           0.028981\n",
              "Number of Doors     -0.040657\n",
              "Driven_Wheels       -0.100777\n",
              "Market Category     -0.134591\n",
              "highway MPG         -0.179530\n",
              "Make                -0.186651\n",
              "city mpg            -0.208235\n",
              "Engine Fuel Type    -0.229984\n",
              "Transmission Type   -0.307729\n",
              "Name: new msrp, dtype: float64"
            ]
          },
          "metadata": {
            "tags": []
          },
          "execution_count": 27
        }
      ]
    },
    {
      "cell_type": "code",
      "metadata": {
        "id": "hbxwI2wodG55",
        "trusted": true,
        "outputId": "eed1d732-12f4-4eea-e4d8-d96e7ded4bab",
        "colab": {
          "base_uri": "https://localhost:8080/",
          "height": 204
        }
      },
      "source": [
        "xy = ['new msrp','Engine HP','Year','Engine Cylinders']\n",
        "data_ve = data[xy]\n",
        "New_data = data.copy()\n",
        "data_ve.head()\n"
      ],
      "execution_count": 28,
      "outputs": [
        {
          "output_type": "execute_result",
          "data": {
            "text/html": [
              "<div>\n",
              "<style scoped>\n",
              "    .dataframe tbody tr th:only-of-type {\n",
              "        vertical-align: middle;\n",
              "    }\n",
              "\n",
              "    .dataframe tbody tr th {\n",
              "        vertical-align: top;\n",
              "    }\n",
              "\n",
              "    .dataframe thead th {\n",
              "        text-align: right;\n",
              "    }\n",
              "</style>\n",
              "<table border=\"1\" class=\"dataframe\">\n",
              "  <thead>\n",
              "    <tr style=\"text-align: right;\">\n",
              "      <th></th>\n",
              "      <th>new msrp</th>\n",
              "      <th>Engine HP</th>\n",
              "      <th>Year</th>\n",
              "      <th>Engine Cylinders</th>\n",
              "    </tr>\n",
              "  </thead>\n",
              "  <tbody>\n",
              "    <tr>\n",
              "      <th>0</th>\n",
              "      <td>10.739349</td>\n",
              "      <td>335.0</td>\n",
              "      <td>2011</td>\n",
              "      <td>6.0</td>\n",
              "    </tr>\n",
              "    <tr>\n",
              "      <th>1</th>\n",
              "      <td>10.612779</td>\n",
              "      <td>300.0</td>\n",
              "      <td>2011</td>\n",
              "      <td>6.0</td>\n",
              "    </tr>\n",
              "    <tr>\n",
              "      <th>2</th>\n",
              "      <td>10.500977</td>\n",
              "      <td>300.0</td>\n",
              "      <td>2011</td>\n",
              "      <td>6.0</td>\n",
              "    </tr>\n",
              "    <tr>\n",
              "      <th>3</th>\n",
              "      <td>10.290483</td>\n",
              "      <td>230.0</td>\n",
              "      <td>2011</td>\n",
              "      <td>6.0</td>\n",
              "    </tr>\n",
              "    <tr>\n",
              "      <th>4</th>\n",
              "      <td>10.448744</td>\n",
              "      <td>230.0</td>\n",
              "      <td>2011</td>\n",
              "      <td>6.0</td>\n",
              "    </tr>\n",
              "  </tbody>\n",
              "</table>\n",
              "</div>"
            ],
            "text/plain": [
              "    new msrp  Engine HP  Year  Engine Cylinders\n",
              "0  10.739349      335.0  2011               6.0\n",
              "1  10.612779      300.0  2011               6.0\n",
              "2  10.500977      300.0  2011               6.0\n",
              "3  10.290483      230.0  2011               6.0\n",
              "4  10.448744      230.0  2011               6.0"
            ]
          },
          "metadata": {
            "tags": []
          },
          "execution_count": 28
        }
      ]
    },
    {
      "cell_type": "markdown",
      "metadata": {
        "id": "a0_izAHlQOa8"
      },
      "source": [
        "MODEL CREATION "
      ]
    },
    {
      "cell_type": "code",
      "metadata": {
        "id": "2W-7yBiCGcu3"
      },
      "source": [
        "FEATURES = ['Engine HP', 'Year', 'Engine Cylinders'] \n",
        "LABEL = 'new msrp'"
      ],
      "execution_count": 29,
      "outputs": []
    },
    {
      "cell_type": "code",
      "metadata": {
        "id": "Z_wPLYAAG9Ry",
        "outputId": "b41286ac-b3c2-4663-914f-f42ee18c84d7",
        "colab": {
          "base_uri": "https://localhost:8080/"
        }
      },
      "source": [
        "PKS = [tf.feature_column.numeric_column(k) for k in FEATURES] \n",
        "PKS"
      ],
      "execution_count": 30,
      "outputs": [
        {
          "output_type": "execute_result",
          "data": {
            "text/plain": [
              "[NumericColumn(key='Engine HP', shape=(1,), default_value=None, dtype=tf.float32, normalizer_fn=None),\n",
              " NumericColumn(key='Year', shape=(1,), default_value=None, dtype=tf.float32, normalizer_fn=None),\n",
              " NumericColumn(key='Engine Cylinders', shape=(1,), default_value=None, dtype=tf.float32, normalizer_fn=None)]"
            ]
          },
          "metadata": {
            "tags": []
          },
          "execution_count": 30
        }
      ]
    },
    {
      "cell_type": "code",
      "metadata": {
        "id": "pfL0AGHLHGZD",
        "outputId": "e67e3d50-44b8-430f-f73d-6342d0d03457",
        "colab": {
          "base_uri": "https://localhost:8080/"
        }
      },
      "source": [
        "# Defining the estimator \n",
        "\n",
        "estimator = tf.estimator.LinearRegressor( feature_columns=PKS, model_dir=\"ABC\")"
      ],
      "execution_count": 31,
      "outputs": [
        {
          "output_type": "stream",
          "text": [
            "INFO:tensorflow:Using default config.\n",
            "INFO:tensorflow:Using config: {'_model_dir': 'ABC', '_tf_random_seed': None, '_save_summary_steps': 100, '_save_checkpoints_steps': None, '_save_checkpoints_secs': 600, '_session_config': allow_soft_placement: true\n",
            "graph_options {\n",
            "  rewrite_options {\n",
            "    meta_optimizer_iterations: ONE\n",
            "  }\n",
            "}\n",
            ", '_keep_checkpoint_max': 5, '_keep_checkpoint_every_n_hours': 10000, '_log_step_count_steps': 100, '_train_distribute': None, '_device_fn': None, '_protocol': None, '_eval_distribute': None, '_experimental_distribute': None, '_experimental_max_worker_delay_secs': None, '_session_creation_timeout_secs': 7200, '_service': None, '_cluster_spec': ClusterSpec({}), '_task_type': 'worker', '_task_id': 0, '_global_id_in_cluster': 0, '_master': '', '_evaluation_master': '', '_is_chief': True, '_num_ps_replicas': 0, '_num_worker_replicas': 1}\n"
          ],
          "name": "stdout"
        }
      ]
    },
    {
      "cell_type": "code",
      "metadata": {
        "id": "0WtYgjTkHVDW"
      },
      "source": [
        "def get_input_fn(data_set, num_epochs=None, n_batch = 128, shuffle=True): \n",
        "    return tf.compat.v1.estimator.inputs.pandas_input_fn( x=pd.DataFrame({k: data_set[k].values for k in FEATURES}),\n",
        "                                               y = pd.Series(data_set[LABEL].values), batch_size=n_batch, num_epochs=num_epochs, shuffle=shuffle)"
      ],
      "execution_count": 32,
      "outputs": []
    },
    {
      "cell_type": "code",
      "metadata": {
        "id": "LO4sPWIMHaiF",
        "outputId": "36e9e9a8-6af9-45bd-d16b-dc243692a25b",
        "colab": {
          "base_uri": "https://localhost:8080/"
        }
      },
      "source": [
        "# MODEL TRAINIUNG \n",
        "\n",
        "df_train=data_ve.sample(frac=0.8,random_state=200) \n",
        "df_test=data_ve.drop(df_train.index) \n",
        "print(df_train.shape, df_test.shape)"
      ],
      "execution_count": 33,
      "outputs": [
        {
          "output_type": "stream",
          "text": [
            "(6467, 4) (1617, 4)\n"
          ],
          "name": "stdout"
        }
      ]
    },
    {
      "cell_type": "code",
      "metadata": {
        "id": "aimfFfp-I-gY",
        "outputId": "d49840d0-c853-4f02-aaa2-542762cd419d",
        "colab": {
          "base_uri": "https://localhost:8080/"
        }
      },
      "source": [
        "estimator.train(input_fn=get_input_fn(df_train, num_epochs=None, n_batch = 128, shuffle=False), steps=1000)"
      ],
      "execution_count": 34,
      "outputs": [
        {
          "output_type": "stream",
          "text": [
            "WARNING:tensorflow:From /usr/local/lib/python3.6/dist-packages/tensorflow/python/util/lazy_loader.py:63: The name tf.estimator.inputs is deprecated. Please use tf.compat.v1.estimator.inputs instead.\n",
            "\n",
            "WARNING:tensorflow:From /usr/local/lib/python3.6/dist-packages/tensorflow/python/training/training_util.py:236: Variable.initialized_value (from tensorflow.python.ops.variables) is deprecated and will be removed in a future version.\n",
            "Instructions for updating:\n",
            "Use Variable.read_value. Variables in 2.X are initialized automatically both in eager and graph (inside tf.defun) contexts.\n",
            "WARNING:tensorflow:From /usr/local/lib/python3.6/dist-packages/tensorflow_estimator/python/estimator/inputs/queues/feeding_queue_runner.py:65: QueueRunner.__init__ (from tensorflow.python.training.queue_runner_impl) is deprecated and will be removed in a future version.\n",
            "Instructions for updating:\n",
            "To construct input pipelines, use the `tf.data` module.\n",
            "WARNING:tensorflow:From /usr/local/lib/python3.6/dist-packages/tensorflow_estimator/python/estimator/inputs/queues/feeding_functions.py:491: add_queue_runner (from tensorflow.python.training.queue_runner_impl) is deprecated and will be removed in a future version.\n",
            "Instructions for updating:\n",
            "To construct input pipelines, use the `tf.data` module.\n",
            "INFO:tensorflow:Calling model_fn.\n",
            "WARNING:tensorflow:From /usr/local/lib/python3.6/dist-packages/tensorflow_estimator/python/estimator/canned/linear.py:1481: Layer.add_variable (from tensorflow.python.keras.engine.base_layer_v1) is deprecated and will be removed in a future version.\n",
            "Instructions for updating:\n",
            "Please use `layer.add_weight` method instead.\n",
            "INFO:tensorflow:Done calling model_fn.\n",
            "INFO:tensorflow:Create CheckpointSaverHook.\n",
            "INFO:tensorflow:Graph was finalized.\n",
            "INFO:tensorflow:Running local_init_op.\n",
            "INFO:tensorflow:Done running local_init_op.\n",
            "WARNING:tensorflow:From /usr/local/lib/python3.6/dist-packages/tensorflow/python/training/monitored_session.py:906: start_queue_runners (from tensorflow.python.training.queue_runner_impl) is deprecated and will be removed in a future version.\n",
            "Instructions for updating:\n",
            "To construct input pipelines, use the `tf.data` module.\n",
            "INFO:tensorflow:Calling checkpoint listeners before saving checkpoint 0...\n",
            "INFO:tensorflow:Saving checkpoints for 0 into ABC/model.ckpt.\n",
            "INFO:tensorflow:Calling checkpoint listeners after saving checkpoint 0...\n",
            "INFO:tensorflow:loss = 13804.124, step = 1\n",
            "INFO:tensorflow:global_step/sec: 545.682\n",
            "INFO:tensorflow:loss = 76.95807, step = 101 (0.187 sec)\n",
            "INFO:tensorflow:global_step/sec: 660.901\n",
            "INFO:tensorflow:loss = 62.435863, step = 201 (0.150 sec)\n",
            "INFO:tensorflow:global_step/sec: 618.702\n",
            "INFO:tensorflow:loss = 66.34382, step = 301 (0.160 sec)\n",
            "INFO:tensorflow:global_step/sec: 653.491\n",
            "INFO:tensorflow:loss = 58.913082, step = 401 (0.155 sec)\n",
            "INFO:tensorflow:global_step/sec: 640.481\n",
            "INFO:tensorflow:loss = 55.713745, step = 501 (0.155 sec)\n",
            "INFO:tensorflow:global_step/sec: 664.421\n",
            "INFO:tensorflow:loss = 43.768948, step = 601 (0.152 sec)\n",
            "INFO:tensorflow:global_step/sec: 660.355\n",
            "INFO:tensorflow:loss = 45.945366, step = 701 (0.150 sec)\n",
            "INFO:tensorflow:global_step/sec: 660.387\n",
            "INFO:tensorflow:loss = 60.300606, step = 801 (0.152 sec)\n",
            "INFO:tensorflow:global_step/sec: 641.214\n",
            "INFO:tensorflow:loss = 44.42247, step = 901 (0.156 sec)\n",
            "WARNING:tensorflow:It seems that global step (tf.train.get_global_step) has not been increased. Current value (could be stable): 970 vs previous value: 970. You could increase the global step by passing tf.train.get_global_step() to Optimizer.apply_gradients or Optimizer.minimize.\n",
            "INFO:tensorflow:Calling checkpoint listeners before saving checkpoint 1000...\n",
            "INFO:tensorflow:Saving checkpoints for 1000 into ABC/model.ckpt.\n",
            "INFO:tensorflow:Calling checkpoint listeners after saving checkpoint 1000...\n",
            "INFO:tensorflow:Loss for final step: 61.454338.\n"
          ],
          "name": "stdout"
        },
        {
          "output_type": "execute_result",
          "data": {
            "text/plain": [
              "<tensorflow_estimator.python.estimator.canned.linear.LinearRegressor at 0x7fcb1288c8d0>"
            ]
          },
          "metadata": {
            "tags": []
          },
          "execution_count": 34
        }
      ]
    },
    {
      "cell_type": "code",
      "metadata": {
        "id": "7q8M55vTJRoX",
        "outputId": "0d23748c-a671-45b4-b142-c9f129f5732a",
        "colab": {
          "base_uri": "https://localhost:8080/"
        }
      },
      "source": [
        "# MODEL EVALUATION \n",
        "\n",
        "ev = estimator.evaluate( input_fn=get_input_fn(df_test, num_epochs=1, n_batch = 128, shuffle=False))"
      ],
      "execution_count": 35,
      "outputs": [
        {
          "output_type": "stream",
          "text": [
            "INFO:tensorflow:Calling model_fn.\n",
            "INFO:tensorflow:Done calling model_fn.\n",
            "INFO:tensorflow:Starting evaluation at 2020-11-08T20:10:34Z\n",
            "INFO:tensorflow:Graph was finalized.\n",
            "INFO:tensorflow:Restoring parameters from ABC/model.ckpt-1000\n",
            "INFO:tensorflow:Running local_init_op.\n",
            "INFO:tensorflow:Done running local_init_op.\n",
            "INFO:tensorflow:Inference Time : 0.18926s\n",
            "INFO:tensorflow:Finished evaluation at 2020-11-08-20:10:34\n",
            "INFO:tensorflow:Saving dict for global step 1000: average_loss = 0.42542925, global_step = 1000, label/mean = 10.434884, loss = 52.916855, prediction/mean = 10.36995\n",
            "INFO:tensorflow:Saving 'checkpoint_path' summary for global step 1000: ABC/model.ckpt-1000\n"
          ],
          "name": "stdout"
        }
      ]
    },
    {
      "cell_type": "code",
      "metadata": {
        "id": "PyIhkHwNJRrx"
      },
      "source": [
        "# R square \n",
        "\n",
        "y = estimator.predict(    \n",
        "         input_fn=get_input_fn(df_test,                          \n",
        "         num_epochs=1,                          \n",
        "         n_batch = 256,                          \n",
        "         shuffle=False))"
      ],
      "execution_count": 36,
      "outputs": []
    },
    {
      "cell_type": "code",
      "metadata": {
        "id": "rqQI7pdUJRuh",
        "outputId": "71ef3733-24c0-443e-8857-a577338e51bb",
        "colab": {
          "base_uri": "https://localhost:8080/"
        }
      },
      "source": [
        "import itertools\n",
        "\n",
        "predictions = list(p[\"predictions\"] for p in itertools.islice(y, 1871))\n",
        "#print(\"Predictions: {}\".format(str(predictions)))"
      ],
      "execution_count": 37,
      "outputs": [
        {
          "output_type": "stream",
          "text": [
            "INFO:tensorflow:Calling model_fn.\n",
            "INFO:tensorflow:Done calling model_fn.\n",
            "INFO:tensorflow:Graph was finalized.\n",
            "INFO:tensorflow:Restoring parameters from ABC/model.ckpt-1000\n",
            "INFO:tensorflow:Running local_init_op.\n",
            "INFO:tensorflow:Done running local_init_op.\n"
          ],
          "name": "stdout"
        }
      ]
    },
    {
      "cell_type": "code",
      "metadata": {
        "id": "nWmne0UPKDG_",
        "outputId": "ddb872b4-82b0-4dfa-d19a-bef9263e0cf7",
        "colab": {
          "base_uri": "https://localhost:8080/"
        }
      },
      "source": [
        "predictions"
      ],
      "execution_count": 41,
      "outputs": [
        {
          "output_type": "execute_result",
          "data": {
            "text/plain": [
              "[array([10.509], dtype=float32),\n",
              " array([9.679], dtype=float32),\n",
              " array([9.679], dtype=float32),\n",
              " array([9.597], dtype=float32),\n",
              " array([10.648], dtype=float32),\n",
              " array([10.241], dtype=float32),\n",
              " array([9.859], dtype=float32),\n",
              " array([9.859], dtype=float32),\n",
              " array([10.502], dtype=float32),\n",
              " array([9.863], dtype=float32),\n",
              " array([9.863], dtype=float32),\n",
              " array([9.867], dtype=float32),\n",
              " array([9.867], dtype=float32),\n",
              " array([9.355], dtype=float32),\n",
              " array([9.359], dtype=float32),\n",
              " array([9.359], dtype=float32),\n",
              " array([10.241], dtype=float32),\n",
              " array([9.835], dtype=float32),\n",
              " array([9.835], dtype=float32),\n",
              " array([9.84], dtype=float32),\n",
              " array([10.19], dtype=float32),\n",
              " array([10.19], dtype=float32),\n",
              " array([9.84], dtype=float32),\n",
              " array([9.84], dtype=float32),\n",
              " array([9.844], dtype=float32),\n",
              " array([9.844], dtype=float32),\n",
              " array([9.704], dtype=float32),\n",
              " array([9.381], dtype=float32),\n",
              " array([9.386], dtype=float32),\n",
              " array([10.006], dtype=float32),\n",
              " array([9.708], dtype=float32),\n",
              " array([9.942], dtype=float32),\n",
              " array([9.708], dtype=float32),\n",
              " array([9.539], dtype=float32),\n",
              " array([9.597], dtype=float32),\n",
              " array([9.712], dtype=float32),\n",
              " array([10.01], dtype=float32),\n",
              " array([9.969], dtype=float32),\n",
              " array([10.565], dtype=float32),\n",
              " array([9.974], dtype=float32),\n",
              " array([10.574], dtype=float32),\n",
              " array([10.489], dtype=float32),\n",
              " array([10.435], dtype=float32),\n",
              " array([9.98], dtype=float32),\n",
              " array([9.163], dtype=float32),\n",
              " array([9.448], dtype=float32),\n",
              " array([10.527], dtype=float32),\n",
              " array([10.527], dtype=float32),\n",
              " array([10.527], dtype=float32),\n",
              " array([10.531], dtype=float32),\n",
              " array([10.531], dtype=float32),\n",
              " array([10.535], dtype=float32),\n",
              " array([11.049], dtype=float32),\n",
              " array([11.053], dtype=float32),\n",
              " array([10.713], dtype=float32),\n",
              " array([10.713], dtype=float32),\n",
              " array([10.819], dtype=float32),\n",
              " array([10.823], dtype=float32),\n",
              " array([10.718], dtype=float32),\n",
              " array([10.827], dtype=float32),\n",
              " array([10.722], dtype=float32),\n",
              " array([10.722], dtype=float32),\n",
              " array([10.722], dtype=float32),\n",
              " array([10.722], dtype=float32),\n",
              " array([9.859], dtype=float32),\n",
              " array([9.859], dtype=float32),\n",
              " array([9.689], dtype=float32),\n",
              " array([9.694], dtype=float32),\n",
              " array([9.694], dtype=float32),\n",
              " array([9.867], dtype=float32),\n",
              " array([9.698], dtype=float32),\n",
              " array([10.531], dtype=float32),\n",
              " array([10.19], dtype=float32),\n",
              " array([10.186], dtype=float32),\n",
              " array([10.241], dtype=float32),\n",
              " array([10.312], dtype=float32),\n",
              " array([12.038], dtype=float32),\n",
              " array([12.043], dtype=float32),\n",
              " array([12.043], dtype=float32),\n",
              " array([11.373], dtype=float32),\n",
              " array([10.191], dtype=float32),\n",
              " array([10.538], dtype=float32),\n",
              " array([11.357], dtype=float32),\n",
              " array([10.545], dtype=float32),\n",
              " array([10.509], dtype=float32),\n",
              " array([9.723], dtype=float32),\n",
              " array([9.383], dtype=float32),\n",
              " array([9.84], dtype=float32),\n",
              " array([9.844], dtype=float32),\n",
              " array([9.727], dtype=float32),\n",
              " array([11.697], dtype=float32),\n",
              " array([11.697], dtype=float32),\n",
              " array([12.41], dtype=float32),\n",
              " array([12.252], dtype=float32),\n",
              " array([11.9], dtype=float32),\n",
              " array([11.905], dtype=float32),\n",
              " array([12.589], dtype=float32),\n",
              " array([10.614], dtype=float32),\n",
              " array([10.619], dtype=float32),\n",
              " array([10.619], dtype=float32),\n",
              " array([11.368], dtype=float32),\n",
              " array([11.373], dtype=float32),\n",
              " array([10.623], dtype=float32),\n",
              " array([11.373], dtype=float32),\n",
              " array([10.994], dtype=float32),\n",
              " array([11.896], dtype=float32),\n",
              " array([12.35], dtype=float32),\n",
              " array([10.614], dtype=float32),\n",
              " array([11.364], dtype=float32),\n",
              " array([11.364], dtype=float32),\n",
              " array([10.264], dtype=float32),\n",
              " array([11.373], dtype=float32),\n",
              " array([10.837], dtype=float32),\n",
              " array([9.341], dtype=float32),\n",
              " array([9.568], dtype=float32),\n",
              " array([9.349], dtype=float32),\n",
              " array([9.507], dtype=float32),\n",
              " array([9.507], dtype=float32),\n",
              " array([10.832], dtype=float32),\n",
              " array([9.434], dtype=float32),\n",
              " array([9.993], dtype=float32),\n",
              " array([10.098], dtype=float32),\n",
              " array([9.993], dtype=float32),\n",
              " array([10.102], dtype=float32),\n",
              " array([9.961], dtype=float32),\n",
              " array([9.704], dtype=float32),\n",
              " array([10.088], dtype=float32),\n",
              " array([9.984], dtype=float32),\n",
              " array([9.971], dtype=float32),\n",
              " array([9.993], dtype=float32),\n",
              " array([9.993], dtype=float32),\n",
              " array([9.993], dtype=float32),\n",
              " array([9.993], dtype=float32),\n",
              " array([10.276], dtype=float32),\n",
              " array([10.276], dtype=float32),\n",
              " array([10.276], dtype=float32),\n",
              " array([10.509], dtype=float32),\n",
              " array([10.482], dtype=float32),\n",
              " array([10.487], dtype=float32),\n",
              " array([10.413], dtype=float32),\n",
              " array([10.491], dtype=float32),\n",
              " array([9.869], dtype=float32),\n",
              " array([10.019], dtype=float32),\n",
              " array([9.786], dtype=float32),\n",
              " array([9.79], dtype=float32),\n",
              " array([9.683], dtype=float32),\n",
              " array([11.11], dtype=float32),\n",
              " array([10.819], dtype=float32),\n",
              " array([10.819], dtype=float32),\n",
              " array([11.11], dtype=float32),\n",
              " array([10.819], dtype=float32),\n",
              " array([11.115], dtype=float32),\n",
              " array([11.815], dtype=float32),\n",
              " array([10.823], dtype=float32),\n",
              " array([10.823], dtype=float32),\n",
              " array([10.823], dtype=float32),\n",
              " array([11.115], dtype=float32),\n",
              " array([12.049], dtype=float32),\n",
              " array([10.944], dtype=float32),\n",
              " array([10.693], dtype=float32),\n",
              " array([9.354], dtype=float32),\n",
              " array([9.358], dtype=float32),\n",
              " array([9.638], dtype=float32),\n",
              " array([9.643], dtype=float32),\n",
              " array([9.363], dtype=float32),\n",
              " array([10.07], dtype=float32),\n",
              " array([10.069], dtype=float32),\n",
              " array([9.777], dtype=float32),\n",
              " array([10.069], dtype=float32),\n",
              " array([10.073], dtype=float32),\n",
              " array([10.073], dtype=float32),\n",
              " array([9.781], dtype=float32),\n",
              " array([10.073], dtype=float32),\n",
              " array([10.073], dtype=float32),\n",
              " array([9.781], dtype=float32),\n",
              " array([9.781], dtype=float32),\n",
              " array([9.664], dtype=float32),\n",
              " array([10.078], dtype=float32),\n",
              " array([9.879], dtype=float32),\n",
              " array([10.264], dtype=float32),\n",
              " array([10.264], dtype=float32),\n",
              " array([10.069], dtype=float32),\n",
              " array([10.069], dtype=float32),\n",
              " array([10.264], dtype=float32),\n",
              " array([10.264], dtype=float32),\n",
              " array([9.902], dtype=float32),\n",
              " array([10.073], dtype=float32),\n",
              " array([10.078], dtype=float32),\n",
              " array([10.069], dtype=float32),\n",
              " array([10.176], dtype=float32),\n",
              " array([10.724], dtype=float32),\n",
              " array([10.181], dtype=float32),\n",
              " array([10.416], dtype=float32),\n",
              " array([10.416], dtype=float32),\n",
              " array([10.457], dtype=float32),\n",
              " array([10.457], dtype=float32),\n",
              " array([10.42], dtype=float32),\n",
              " array([10.594], dtype=float32),\n",
              " array([9.586], dtype=float32),\n",
              " array([9.584], dtype=float32),\n",
              " array([9.584], dtype=float32),\n",
              " array([9.589], dtype=float32),\n",
              " array([9.589], dtype=float32),\n",
              " array([10.335], dtype=float32),\n",
              " array([10.34], dtype=float32),\n",
              " array([10.34], dtype=float32),\n",
              " array([9.918], dtype=float32),\n",
              " array([9.929], dtype=float32),\n",
              " array([10.031], dtype=float32),\n",
              " array([10.031], dtype=float32),\n",
              " array([9.924], dtype=float32),\n",
              " array([10.398], dtype=float32),\n",
              " array([10.398], dtype=float32),\n",
              " array([10.403], dtype=float32),\n",
              " array([10.403], dtype=float32),\n",
              " array([10.182], dtype=float32),\n",
              " array([10.469], dtype=float32),\n",
              " array([10.191], dtype=float32),\n",
              " array([11.919], dtype=float32),\n",
              " array([12.273], dtype=float32),\n",
              " array([12.278], dtype=float32),\n",
              " array([11.914], dtype=float32),\n",
              " array([10.903], dtype=float32),\n",
              " array([10.351], dtype=float32),\n",
              " array([10.356], dtype=float32),\n",
              " array([10.36], dtype=float32),\n",
              " array([11.437], dtype=float32),\n",
              " array([10.612], dtype=float32),\n",
              " array([11.358], dtype=float32),\n",
              " array([11.363], dtype=float32),\n",
              " array([11.655], dtype=float32),\n",
              " array([11.659], dtype=float32),\n",
              " array([11.367], dtype=float32),\n",
              " array([11.367], dtype=float32),\n",
              " array([10.103], dtype=float32),\n",
              " array([10.509], dtype=float32),\n",
              " array([9.065], dtype=float32),\n",
              " array([9.069], dtype=float32),\n",
              " array([9.074], dtype=float32),\n",
              " array([10.649], dtype=float32),\n",
              " array([10.377], dtype=float32),\n",
              " array([10.735], dtype=float32),\n",
              " array([10.377], dtype=float32),\n",
              " array([10.377], dtype=float32),\n",
              " array([10.377], dtype=float32),\n",
              " array([10.735], dtype=float32),\n",
              " array([10.381], dtype=float32),\n",
              " array([10.381], dtype=float32),\n",
              " array([10.381], dtype=float32),\n",
              " array([11.493], dtype=float32),\n",
              " array([11.493], dtype=float32),\n",
              " array([10.377], dtype=float32),\n",
              " array([10.735], dtype=float32),\n",
              " array([10.617], dtype=float32),\n",
              " array([10.621], dtype=float32),\n",
              " array([10.621], dtype=float32),\n",
              " array([10.621], dtype=float32),\n",
              " array([9.952], dtype=float32),\n",
              " array([10.34], dtype=float32),\n",
              " array([10.344], dtype=float32),\n",
              " array([10.344], dtype=float32),\n",
              " array([13.131], dtype=float32),\n",
              " array([9.393], dtype=float32),\n",
              " array([9.397], dtype=float32),\n",
              " array([10.49], dtype=float32),\n",
              " array([10.494], dtype=float32),\n",
              " array([9.812], dtype=float32),\n",
              " array([11.663], dtype=float32),\n",
              " array([9.581], dtype=float32),\n",
              " array([9.544], dtype=float32),\n",
              " array([9.544], dtype=float32),\n",
              " array([10.195], dtype=float32),\n",
              " array([10.195], dtype=float32),\n",
              " array([10.171], dtype=float32),\n",
              " array([9.962], dtype=float32),\n",
              " array([9.704], dtype=float32),\n",
              " array([9.971], dtype=float32),\n",
              " array([9.971], dtype=float32),\n",
              " array([10.006], dtype=float32),\n",
              " array([9.597], dtype=float32),\n",
              " array([10.006], dtype=float32),\n",
              " array([9.66], dtype=float32),\n",
              " array([9.66], dtype=float32),\n",
              " array([10.01], dtype=float32),\n",
              " array([10.01], dtype=float32),\n",
              " array([10.015], dtype=float32),\n",
              " array([10.015], dtype=float32),\n",
              " array([9.777], dtype=float32),\n",
              " array([9.777], dtype=float32),\n",
              " array([9.777], dtype=float32),\n",
              " array([9.777], dtype=float32),\n",
              " array([9.777], dtype=float32),\n",
              " array([9.777], dtype=float32),\n",
              " array([10.015], dtype=float32),\n",
              " array([9.781], dtype=float32),\n",
              " array([9.786], dtype=float32),\n",
              " array([9.622], dtype=float32),\n",
              " array([10.625], dtype=float32),\n",
              " array([10.328], dtype=float32),\n",
              " array([10.702], dtype=float32),\n",
              " array([10.614], dtype=float32),\n",
              " array([10.327], dtype=float32),\n",
              " array([9.654], dtype=float32),\n",
              " array([9.956], dtype=float32),\n",
              " array([9.956], dtype=float32),\n",
              " array([10.191], dtype=float32),\n",
              " array([10.191], dtype=float32),\n",
              " array([10.2], dtype=float32),\n",
              " array([10.2], dtype=float32),\n",
              " array([10.2], dtype=float32),\n",
              " array([10.2], dtype=float32),\n",
              " array([10.088], dtype=float32),\n",
              " array([10.092], dtype=float32),\n",
              " array([9.696], dtype=float32),\n",
              " array([11.398], dtype=float32),\n",
              " array([11.577], dtype=float32),\n",
              " array([12.152], dtype=float32),\n",
              " array([10.394], dtype=float32),\n",
              " array([11.427], dtype=float32),\n",
              " array([10.399], dtype=float32),\n",
              " array([9.952], dtype=float32),\n",
              " array([9.956], dtype=float32),\n",
              " array([9.961], dtype=float32),\n",
              " array([10.56], dtype=float32),\n",
              " array([9.956], dtype=float32),\n",
              " array([10.56], dtype=float32),\n",
              " array([9.826], dtype=float32),\n",
              " array([9.826], dtype=float32),\n",
              " array([9.835], dtype=float32),\n",
              " array([9.835], dtype=float32),\n",
              " array([9.625], dtype=float32),\n",
              " array([12.245], dtype=float32),\n",
              " array([9.877], dtype=float32),\n",
              " array([12.098], dtype=float32),\n",
              " array([10.668], dtype=float32),\n",
              " array([10.381], dtype=float32),\n",
              " array([10.677], dtype=float32),\n",
              " array([9.952], dtype=float32),\n",
              " array([10.414], dtype=float32),\n",
              " array([9.956], dtype=float32),\n",
              " array([9.956], dtype=float32),\n",
              " array([9.956], dtype=float32),\n",
              " array([9.956], dtype=float32),\n",
              " array([9.554], dtype=float32),\n",
              " array([10.955], dtype=float32),\n",
              " array([12.894], dtype=float32),\n",
              " array([10.556], dtype=float32),\n",
              " array([10.96], dtype=float32),\n",
              " array([11.602], dtype=float32),\n",
              " array([11.606], dtype=float32),\n",
              " array([10.565], dtype=float32),\n",
              " array([10.484], dtype=float32),\n",
              " array([10.93], dtype=float32),\n",
              " array([10.935], dtype=float32),\n",
              " array([9.212], dtype=float32),\n",
              " array([9.981], dtype=float32),\n",
              " array([9.427], dtype=float32),\n",
              " array([9.981], dtype=float32),\n",
              " array([9.427], dtype=float32),\n",
              " array([9.427], dtype=float32),\n",
              " array([9.844], dtype=float32),\n",
              " array([9.809], dtype=float32),\n",
              " array([9.809], dtype=float32),\n",
              " array([9.809], dtype=float32),\n",
              " array([11.882], dtype=float32),\n",
              " array([11.262], dtype=float32),\n",
              " array([10.003], dtype=float32),\n",
              " array([10.241], dtype=float32),\n",
              " array([10.961], dtype=float32),\n",
              " array([10.314], dtype=float32),\n",
              " array([10.696], dtype=float32),\n",
              " array([11.122], dtype=float32),\n",
              " array([10.276], dtype=float32),\n",
              " array([10.276], dtype=float32),\n",
              " array([10.56], dtype=float32),\n",
              " array([10.56], dtype=float32),\n",
              " array([9.956], dtype=float32),\n",
              " array([9.221], dtype=float32),\n",
              " array([12.242], dtype=float32),\n",
              " array([11.957], dtype=float32),\n",
              " array([11.962], dtype=float32),\n",
              " array([11.681], dtype=float32),\n",
              " array([11.803], dtype=float32),\n",
              " array([12.053], dtype=float32),\n",
              " array([11.685], dtype=float32),\n",
              " array([12.233], dtype=float32),\n",
              " array([11.676], dtype=float32),\n",
              " array([11.803], dtype=float32),\n",
              " array([12.36], dtype=float32),\n",
              " array([12.356], dtype=float32),\n",
              " array([11.04], dtype=float32),\n",
              " array([11.166], dtype=float32),\n",
              " array([10.31], dtype=float32),\n",
              " array([10.565], dtype=float32),\n",
              " array([10.565], dtype=float32),\n",
              " array([9.839], dtype=float32),\n",
              " array([11.418], dtype=float32),\n",
              " array([11.452], dtype=float32),\n",
              " array([12.561], dtype=float32),\n",
              " array([12.561], dtype=float32),\n",
              " array([12.561], dtype=float32),\n",
              " array([11.422], dtype=float32),\n",
              " array([12.565], dtype=float32),\n",
              " array([11.456], dtype=float32),\n",
              " array([12.565], dtype=float32),\n",
              " array([11.427], dtype=float32),\n",
              " array([11.456], dtype=float32),\n",
              " array([11.46], dtype=float32),\n",
              " array([11.431], dtype=float32),\n",
              " array([11.46], dtype=float32),\n",
              " array([10.995], dtype=float32),\n",
              " array([9.86], dtype=float32),\n",
              " array([9.86], dtype=float32),\n",
              " array([9.86], dtype=float32),\n",
              " array([9.864], dtype=float32),\n",
              " array([9.864], dtype=float32),\n",
              " array([9.864], dtype=float32),\n",
              " array([9.869], dtype=float32),\n",
              " array([9.869], dtype=float32),\n",
              " array([9.869], dtype=float32),\n",
              " array([9.869], dtype=float32),\n",
              " array([9.539], dtype=float32),\n",
              " array([9.539], dtype=float32),\n",
              " array([9.539], dtype=float32),\n",
              " array([9.543], dtype=float32),\n",
              " array([9.548], dtype=float32),\n",
              " array([9.991], dtype=float32),\n",
              " array([9.995], dtype=float32),\n",
              " array([10.], dtype=float32),\n",
              " array([9.901], dtype=float32),\n",
              " array([10.394], dtype=float32),\n",
              " array([10.394], dtype=float32),\n",
              " array([10.398], dtype=float32),\n",
              " array([10.398], dtype=float32),\n",
              " array([10.398], dtype=float32),\n",
              " array([9.653], dtype=float32),\n",
              " array([9.657], dtype=float32),\n",
              " array([10.047], dtype=float32),\n",
              " array([9.648], dtype=float32),\n",
              " array([11.138], dtype=float32),\n",
              " array([11.138], dtype=float32),\n",
              " array([10.74], dtype=float32),\n",
              " array([10.34], dtype=float32),\n",
              " array([10.74], dtype=float32),\n",
              " array([10.619], dtype=float32),\n",
              " array([10.619], dtype=float32),\n",
              " array([10.619], dtype=float32),\n",
              " array([10.619], dtype=float32),\n",
              " array([10.623], dtype=float32),\n",
              " array([10.627], dtype=float32),\n",
              " array([10.627], dtype=float32),\n",
              " array([10.627], dtype=float32),\n",
              " array([12.012], dtype=float32),\n",
              " array([12.008], dtype=float32),\n",
              " array([10.619], dtype=float32),\n",
              " array([10.338], dtype=float32),\n",
              " array([10.619], dtype=float32),\n",
              " array([10.343], dtype=float32),\n",
              " array([10.627], dtype=float32),\n",
              " array([10.649], dtype=float32),\n",
              " array([10.649], dtype=float32),\n",
              " array([10.649], dtype=float32),\n",
              " array([10.649], dtype=float32),\n",
              " array([11.232], dtype=float32),\n",
              " array([10.353], dtype=float32),\n",
              " array([10.358], dtype=float32),\n",
              " array([11.236], dtype=float32),\n",
              " array([9.641], dtype=float32),\n",
              " array([9.645], dtype=float32),\n",
              " array([9.645], dtype=float32),\n",
              " array([9.645], dtype=float32),\n",
              " array([9.854], dtype=float32),\n",
              " array([9.685], dtype=float32),\n",
              " array([9.859], dtype=float32),\n",
              " array([9.689], dtype=float32),\n",
              " array([9.859], dtype=float32),\n",
              " array([9.863], dtype=float32),\n",
              " array([9.863], dtype=float32),\n",
              " array([9.863], dtype=float32),\n",
              " array([10.187], dtype=float32),\n",
              " array([10.187], dtype=float32),\n",
              " array([9.702], dtype=float32),\n",
              " array([9.707], dtype=float32),\n",
              " array([10.191], dtype=float32),\n",
              " array([10.196], dtype=float32),\n",
              " array([10.196], dtype=float32),\n",
              " array([10.365], dtype=float32),\n",
              " array([10.114], dtype=float32),\n",
              " array([9.975], dtype=float32),\n",
              " array([9.975], dtype=float32),\n",
              " array([9.975], dtype=float32),\n",
              " array([9.979], dtype=float32),\n",
              " array([9.979], dtype=float32),\n",
              " array([9.979], dtype=float32),\n",
              " array([9.979], dtype=float32),\n",
              " array([9.979], dtype=float32),\n",
              " array([12.039], dtype=float32),\n",
              " array([9.272], dtype=float32),\n",
              " array([11.147], dtype=float32),\n",
              " array([11.235], dtype=float32),\n",
              " array([11.147], dtype=float32),\n",
              " array([11.905], dtype=float32),\n",
              " array([11.721], dtype=float32),\n",
              " array([11.725], dtype=float32),\n",
              " array([11.725], dtype=float32),\n",
              " array([11.703], dtype=float32),\n",
              " array([11.712], dtype=float32),\n",
              " array([10.319], dtype=float32),\n",
              " array([10.469], dtype=float32),\n",
              " array([10.323], dtype=float32),\n",
              " array([9.807], dtype=float32),\n",
              " array([10.19], dtype=float32),\n",
              " array([9.98], dtype=float32),\n",
              " array([9.98], dtype=float32),\n",
              " array([10.444], dtype=float32),\n",
              " array([10.345], dtype=float32),\n",
              " array([10.345], dtype=float32),\n",
              " array([10.453], dtype=float32),\n",
              " array([10.354], dtype=float32),\n",
              " array([10.868], dtype=float32),\n",
              " array([10.468], dtype=float32),\n",
              " array([10.468], dtype=float32),\n",
              " array([10.872], dtype=float32),\n",
              " array([10.872], dtype=float32),\n",
              " array([10.538], dtype=float32),\n",
              " array([9.923], dtype=float32),\n",
              " array([10.696], dtype=float32),\n",
              " array([10.7], dtype=float32),\n",
              " array([10.543], dtype=float32),\n",
              " array([9.927], dtype=float32),\n",
              " array([10.7], dtype=float32),\n",
              " array([10.2], dtype=float32),\n",
              " array([10.705], dtype=float32),\n",
              " array([10.2], dtype=float32),\n",
              " array([10.066], dtype=float32),\n",
              " array([10.066], dtype=float32),\n",
              " array([10.242], dtype=float32),\n",
              " array([10.246], dtype=float32),\n",
              " array([10.075], dtype=float32),\n",
              " array([10.25], dtype=float32),\n",
              " array([10.242], dtype=float32),\n",
              " array([10.246], dtype=float32),\n",
              " array([10.246], dtype=float32),\n",
              " array([10.309], dtype=float32),\n",
              " array([9.708], dtype=float32),\n",
              " array([9.713], dtype=float32),\n",
              " array([9.717], dtype=float32),\n",
              " array([10.215], dtype=float32),\n",
              " array([10.215], dtype=float32),\n",
              " array([10.614], dtype=float32),\n",
              " array([10.614], dtype=float32),\n",
              " array([10.215], dtype=float32),\n",
              " array([10.31], dtype=float32),\n",
              " array([10.461], dtype=float32),\n",
              " array([10.315], dtype=float32),\n",
              " array([9.727], dtype=float32),\n",
              " array([9.727], dtype=float32),\n",
              " array([9.866], dtype=float32),\n",
              " array([10.461], dtype=float32),\n",
              " array([9.59], dtype=float32),\n",
              " array([9.59], dtype=float32),\n",
              " array([9.594], dtype=float32),\n",
              " array([9.594], dtype=float32),\n",
              " array([9.594], dtype=float32),\n",
              " array([9.594], dtype=float32),\n",
              " array([9.599], dtype=float32),\n",
              " array([10.058], dtype=float32),\n",
              " array([10.058], dtype=float32),\n",
              " array([10.058], dtype=float32),\n",
              " array([10.071], dtype=float32),\n",
              " array([9.847], dtype=float32),\n",
              " array([9.847], dtype=float32),\n",
              " array([9.847], dtype=float32),\n",
              " array([9.856], dtype=float32),\n",
              " array([9.956], dtype=float32),\n",
              " array([9.94], dtype=float32),\n",
              " array([10.009], dtype=float32),\n",
              " array([10.34], dtype=float32),\n",
              " array([11.218], dtype=float32),\n",
              " array([11.218], dtype=float32),\n",
              " array([11.218], dtype=float32),\n",
              " array([11.222], dtype=float32),\n",
              " array([11.222], dtype=float32),\n",
              " array([11.227], dtype=float32),\n",
              " array([11.227], dtype=float32),\n",
              " array([11.227], dtype=float32),\n",
              " array([11.106], dtype=float32),\n",
              " array([11.11], dtype=float32),\n",
              " array([10.687], dtype=float32),\n",
              " array([10.691], dtype=float32),\n",
              " array([10.695], dtype=float32),\n",
              " array([11.222], dtype=float32),\n",
              " array([9.792], dtype=float32),\n",
              " array([9.792], dtype=float32),\n",
              " array([9.796], dtype=float32),\n",
              " array([9.824], dtype=float32),\n",
              " array([9.824], dtype=float32),\n",
              " array([9.824], dtype=float32),\n",
              " array([9.828], dtype=float32),\n",
              " array([9.828], dtype=float32),\n",
              " array([10.369], dtype=float32),\n",
              " array([10.382], dtype=float32),\n",
              " array([10.479], dtype=float32),\n",
              " array([10.487], dtype=float32),\n",
              " array([10.159], dtype=float32),\n",
              " array([10.496], dtype=float32),\n",
              " array([10.664], dtype=float32),\n",
              " array([9.975], dtype=float32),\n",
              " array([9.975], dtype=float32),\n",
              " array([9.979], dtype=float32),\n",
              " array([10.473], dtype=float32),\n",
              " array([10.911], dtype=float32),\n",
              " array([10.911], dtype=float32),\n",
              " array([10.477], dtype=float32),\n",
              " array([9.482], dtype=float32),\n",
              " array([9.482], dtype=float32),\n",
              " array([9.487], dtype=float32),\n",
              " array([9.487], dtype=float32),\n",
              " array([9.487], dtype=float32),\n",
              " array([10.43], dtype=float32),\n",
              " array([10.43], dtype=float32),\n",
              " array([10.434], dtype=float32),\n",
              " array([10.422], dtype=float32),\n",
              " array([11.014], dtype=float32),\n",
              " array([11.014], dtype=float32),\n",
              " array([10.673], dtype=float32),\n",
              " array([11.014], dtype=float32),\n",
              " array([11.014], dtype=float32),\n",
              " array([11.014], dtype=float32),\n",
              " array([10.422], dtype=float32),\n",
              " array([10.673], dtype=float32),\n",
              " array([11.014], dtype=float32),\n",
              " array([11.014], dtype=float32),\n",
              " array([10.422], dtype=float32),\n",
              " array([10.677], dtype=float32),\n",
              " array([10.426], dtype=float32),\n",
              " array([10.426], dtype=float32),\n",
              " array([11.018], dtype=float32),\n",
              " array([11.018], dtype=float32),\n",
              " array([10.43], dtype=float32),\n",
              " array([10.43], dtype=float32),\n",
              " array([11.022], dtype=float32),\n",
              " array([10.681], dtype=float32),\n",
              " array([11.022], dtype=float32),\n",
              " array([10.681], dtype=float32),\n",
              " array([10.43], dtype=float32),\n",
              " array([11.022], dtype=float32),\n",
              " array([10.43], dtype=float32),\n",
              " array([10.915], dtype=float32),\n",
              " array([11.022], dtype=float32),\n",
              " array([11.555], dtype=float32),\n",
              " array([11.56], dtype=float32),\n",
              " array([9.056], dtype=float32),\n",
              " array([12.548], dtype=float32),\n",
              " array([9.485], dtype=float32),\n",
              " array([9.939], dtype=float32),\n",
              " array([9.877], dtype=float32),\n",
              " array([10.519], dtype=float32),\n",
              " array([9.543], dtype=float32),\n",
              " array([10.197], dtype=float32),\n",
              " array([11.685], dtype=float32),\n",
              " array([10.837], dtype=float32),\n",
              " array([9.718], dtype=float32),\n",
              " array([9.723], dtype=float32),\n",
              " array([9.727], dtype=float32),\n",
              " array([9.727], dtype=float32),\n",
              " array([9.777], dtype=float32),\n",
              " array([9.781], dtype=float32),\n",
              " array([9.958], dtype=float32),\n",
              " array([9.958], dtype=float32),\n",
              " array([9.958], dtype=float32),\n",
              " array([9.799], dtype=float32),\n",
              " array([9.956], dtype=float32),\n",
              " array([9.747], dtype=float32),\n",
              " array([9.917], dtype=float32),\n",
              " array([9.921], dtype=float32),\n",
              " array([9.921], dtype=float32),\n",
              " array([9.925], dtype=float32),\n",
              " array([9.886], dtype=float32),\n",
              " array([9.891], dtype=float32),\n",
              " array([9.891], dtype=float32),\n",
              " array([9.891], dtype=float32),\n",
              " array([10.133], dtype=float32),\n",
              " array([10.133], dtype=float32),\n",
              " array([10.142], dtype=float32),\n",
              " array([10.35], dtype=float32),\n",
              " array([10.518], dtype=float32),\n",
              " array([10.522], dtype=float32),\n",
              " array([10.531], dtype=float32),\n",
              " array([10.655], dtype=float32),\n",
              " array([10.655], dtype=float32),\n",
              " array([10.664], dtype=float32),\n",
              " array([10.684], dtype=float32),\n",
              " array([10.684], dtype=float32),\n",
              " array([10.689], dtype=float32),\n",
              " array([10.798], dtype=float32),\n",
              " array([10.673], dtype=float32),\n",
              " array([10.677], dtype=float32),\n",
              " array([10.035], dtype=float32),\n",
              " array([10.035], dtype=float32),\n",
              " array([9.57], dtype=float32),\n",
              " array([10.371], dtype=float32),\n",
              " array([10.527], dtype=float32),\n",
              " array([10.527], dtype=float32),\n",
              " array([10.68], dtype=float32),\n",
              " array([10.68], dtype=float32),\n",
              " array([10.668], dtype=float32),\n",
              " array([10.668], dtype=float32),\n",
              " array([10.664], dtype=float32),\n",
              " array([9.377], dtype=float32),\n",
              " array([10.22], dtype=float32),\n",
              " array([10.027], dtype=float32),\n",
              " array([10.6], dtype=float32),\n",
              " array([12.013], dtype=float32),\n",
              " array([12.017], dtype=float32),\n",
              " array([12.076], dtype=float32),\n",
              " array([12.076], dtype=float32),\n",
              " array([11.963], dtype=float32),\n",
              " array([12.022], dtype=float32),\n",
              " array([10.38], dtype=float32),\n",
              " array([10.811], dtype=float32),\n",
              " array([11.138], dtype=float32),\n",
              " array([12.034], dtype=float32),\n",
              " array([12.039], dtype=float32),\n",
              " array([12.021], dtype=float32),\n",
              " array([9.999], dtype=float32),\n",
              " array([10.982], dtype=float32),\n",
              " array([10.7], dtype=float32),\n",
              " array([12.139], dtype=float32),\n",
              " array([9.921], dtype=float32),\n",
              " array([9.926], dtype=float32),\n",
              " array([9.926], dtype=float32),\n",
              " array([9.939], dtype=float32),\n",
              " array([9.939], dtype=float32),\n",
              " array([12.143], dtype=float32),\n",
              " array([9.786], dtype=float32),\n",
              " array([9.786], dtype=float32),\n",
              " array([10.01], dtype=float32),\n",
              " array([10.069], dtype=float32),\n",
              " array([10.01], dtype=float32),\n",
              " array([10.01], dtype=float32),\n",
              " array([10.015], dtype=float32),\n",
              " array([10.073], dtype=float32),\n",
              " array([10.015], dtype=float32),\n",
              " array([10.073], dtype=float32),\n",
              " array([10.019], dtype=float32),\n",
              " array([10.019], dtype=float32),\n",
              " array([10.078], dtype=float32),\n",
              " array([10.489], dtype=float32),\n",
              " array([9.66], dtype=float32),\n",
              " array([9.66], dtype=float32),\n",
              " array([9.66], dtype=float32),\n",
              " array([9.66], dtype=float32),\n",
              " array([9.777], dtype=float32),\n",
              " array([9.781], dtype=float32),\n",
              " array([9.781], dtype=float32),\n",
              " array([9.781], dtype=float32),\n",
              " array([9.781], dtype=float32),\n",
              " array([10.427], dtype=float32),\n",
              " array([10.432], dtype=float32),\n",
              " array([9.74], dtype=float32),\n",
              " array([9.74], dtype=float32),\n",
              " array([9.745], dtype=float32),\n",
              " array([9.628], dtype=float32),\n",
              " array([11.412], dtype=float32),\n",
              " array([11.412], dtype=float32),\n",
              " array([11.417], dtype=float32),\n",
              " array([11.417], dtype=float32),\n",
              " array([11.421], dtype=float32),\n",
              " array([11.421], dtype=float32),\n",
              " array([10.562], dtype=float32),\n",
              " array([10.736], dtype=float32),\n",
              " array([11.497], dtype=float32),\n",
              " array([11.957], dtype=float32),\n",
              " array([12.278], dtype=float32),\n",
              " array([11.933], dtype=float32),\n",
              " array([9.939], dtype=float32),\n",
              " array([9.939], dtype=float32),\n",
              " array([9.939], dtype=float32),\n",
              " array([9.939], dtype=float32),\n",
              " array([9.939], dtype=float32),\n",
              " array([9.939], dtype=float32),\n",
              " array([9.939], dtype=float32),\n",
              " array([9.943], dtype=float32),\n",
              " array([9.943], dtype=float32),\n",
              " array([9.943], dtype=float32),\n",
              " array([9.943], dtype=float32),\n",
              " array([9.943], dtype=float32),\n",
              " array([9.943], dtype=float32),\n",
              " array([9.943], dtype=float32),\n",
              " array([9.943], dtype=float32),\n",
              " array([9.943], dtype=float32),\n",
              " array([9.948], dtype=float32),\n",
              " array([10.528], dtype=float32),\n",
              " array([10.275], dtype=float32),\n",
              " array([10.149], dtype=float32),\n",
              " array([10.276], dtype=float32),\n",
              " array([9.663], dtype=float32),\n",
              " array([9.663], dtype=float32),\n",
              " array([9.667], dtype=float32),\n",
              " array([9.667], dtype=float32),\n",
              " array([9.672], dtype=float32),\n",
              " array([10.41], dtype=float32),\n",
              " array([10.414], dtype=float32),\n",
              " array([10.351], dtype=float32),\n",
              " array([10.356], dtype=float32),\n",
              " array([10.356], dtype=float32),\n",
              " array([9.218], dtype=float32),\n",
              " array([9.612], dtype=float32),\n",
              " array([9.616], dtype=float32),\n",
              " array([9.616], dtype=float32),\n",
              " array([9.863], dtype=float32),\n",
              " array([12.318], dtype=float32),\n",
              " array([12.147], dtype=float32),\n",
              " array([9.815], dtype=float32),\n",
              " array([10.039], dtype=float32),\n",
              " array([10.207], dtype=float32),\n",
              " array([10.216], dtype=float32),\n",
              " array([9.804], dtype=float32),\n",
              " array([9.66], dtype=float32),\n",
              " array([9.962], dtype=float32),\n",
              " array([9.962], dtype=float32),\n",
              " array([9.967], dtype=float32),\n",
              " array([10.522], dtype=float32),\n",
              " array([10.323], dtype=float32),\n",
              " array([10.323], dtype=float32),\n",
              " array([10.327], dtype=float32),\n",
              " array([9.653], dtype=float32),\n",
              " array([9.653], dtype=float32),\n",
              " array([9.343], dtype=float32),\n",
              " array([9.343], dtype=float32),\n",
              " array([9.348], dtype=float32),\n",
              " array([9.532], dtype=float32),\n",
              " array([9.707], dtype=float32),\n",
              " array([9.711], dtype=float32),\n",
              " array([9.536], dtype=float32),\n",
              " array([9.716], dtype=float32),\n",
              " array([9.541], dtype=float32),\n",
              " array([9.541], dtype=float32),\n",
              " array([9.541], dtype=float32),\n",
              " array([9.541], dtype=float32),\n",
              " array([9.862], dtype=float32),\n",
              " array([10.143], dtype=float32),\n",
              " array([9.329], dtype=float32),\n",
              " array([9.962], dtype=float32),\n",
              " array([9.962], dtype=float32),\n",
              " array([9.966], dtype=float32),\n",
              " array([10.557], dtype=float32),\n",
              " array([10.562], dtype=float32),\n",
              " array([9.918], dtype=float32),\n",
              " array([9.923], dtype=float32),\n",
              " array([10.002], dtype=float32),\n",
              " array([10.002], dtype=float32),\n",
              " array([9.943], dtype=float32),\n",
              " array([10.002], dtype=float32),\n",
              " array([9.943], dtype=float32),\n",
              " array([9.943], dtype=float32),\n",
              " array([10.006], dtype=float32),\n",
              " array([10.006], dtype=float32),\n",
              " array([10.006], dtype=float32),\n",
              " array([9.772], dtype=float32),\n",
              " array([9.772], dtype=float32),\n",
              " array([9.589], dtype=float32),\n",
              " array([9.597], dtype=float32),\n",
              " array([9.66], dtype=float32),\n",
              " array([10.015], dtype=float32),\n",
              " array([10.015], dtype=float32),\n",
              " array([10.015], dtype=float32),\n",
              " array([10.015], dtype=float32),\n",
              " array([10.436], dtype=float32),\n",
              " array([9.882], dtype=float32),\n",
              " array([9.882], dtype=float32),\n",
              " array([9.882], dtype=float32),\n",
              " array([9.886], dtype=float32),\n",
              " array([9.886], dtype=float32),\n",
              " array([9.891], dtype=float32),\n",
              " array([9.115], dtype=float32),\n",
              " array([11.218], dtype=float32),\n",
              " array([10.554], dtype=float32),\n",
              " array([10.554], dtype=float32),\n",
              " array([10.554], dtype=float32),\n",
              " array([10.27], dtype=float32),\n",
              " array([9.847], dtype=float32),\n",
              " array([10.798], dtype=float32),\n",
              " array([10.181], dtype=float32),\n",
              " array([10.186], dtype=float32),\n",
              " array([10.487], dtype=float32),\n",
              " array([10.756], dtype=float32),\n",
              " array([10.868], dtype=float32),\n",
              " array([11.02], dtype=float32),\n",
              " array([10.872], dtype=float32),\n",
              " array([11.028], dtype=float32),\n",
              " array([10.871], dtype=float32),\n",
              " array([11.323], dtype=float32),\n",
              " array([10.082], dtype=float32),\n",
              " array([10.357], dtype=float32),\n",
              " array([10.444], dtype=float32),\n",
              " array([10.079], dtype=float32),\n",
              " array([10.083], dtype=float32),\n",
              " array([10.083], dtype=float32),\n",
              " array([9.934], dtype=float32),\n",
              " array([10.094], dtype=float32),\n",
              " array([11.006], dtype=float32),\n",
              " array([11.011], dtype=float32),\n",
              " array([10.534], dtype=float32),\n",
              " array([10.696], dtype=float32),\n",
              " array([10.911], dtype=float32),\n",
              " array([10.915], dtype=float32),\n",
              " array([11.265], dtype=float32),\n",
              " array([10.633], dtype=float32),\n",
              " array([10.642], dtype=float32),\n",
              " array([11.261], dtype=float32),\n",
              " array([11.261], dtype=float32),\n",
              " array([11.984], dtype=float32),\n",
              " array([12.04], dtype=float32),\n",
              " array([11.115], dtype=float32),\n",
              " array([10.716], dtype=float32),\n",
              " array([9.899], dtype=float32),\n",
              " array([9.899], dtype=float32),\n",
              " array([10.296], dtype=float32),\n",
              " array([10.296], dtype=float32),\n",
              " array([10.253], dtype=float32),\n",
              " array([10.482], dtype=float32),\n",
              " array([10.487], dtype=float32),\n",
              " array([10.318], dtype=float32),\n",
              " array([10.322], dtype=float32),\n",
              " array([10.326], dtype=float32),\n",
              " array([9.975], dtype=float32),\n",
              " array([9.975], dtype=float32),\n",
              " array([9.538], dtype=float32),\n",
              " array([9.689], dtype=float32),\n",
              " array([9.542], dtype=float32),\n",
              " array([10.531], dtype=float32),\n",
              " array([10.535], dtype=float32),\n",
              " array([11.805], dtype=float32),\n",
              " array([11.81], dtype=float32),\n",
              " array([10.302], dtype=float32),\n",
              " array([10.311], dtype=float32),\n",
              " array([10.345], dtype=float32),\n",
              " array([9.78], dtype=float32),\n",
              " array([9.724], dtype=float32),\n",
              " array([10.468], dtype=float32),\n",
              " array([10.468], dtype=float32),\n",
              " array([10.468], dtype=float32),\n",
              " array([10.473], dtype=float32),\n",
              " array([10.473], dtype=float32),\n",
              " array([10.477], dtype=float32),\n",
              " array([10.477], dtype=float32),\n",
              " array([10.477], dtype=float32),\n",
              " array([9.04], dtype=float32),\n",
              " array([9.936], dtype=float32),\n",
              " array([9.944], dtype=float32),\n",
              " array([11.209], dtype=float32),\n",
              " array([9.217], dtype=float32),\n",
              " array([9.217], dtype=float32),\n",
              " array([9.217], dtype=float32),\n",
              " array([9.221], dtype=float32),\n",
              " array([9.221], dtype=float32),\n",
              " array([9.253], dtype=float32),\n",
              " array([10.19], dtype=float32),\n",
              " array([10.19], dtype=float32),\n",
              " array([10.19], dtype=float32),\n",
              " array([10.194], dtype=float32),\n",
              " array([10.556], dtype=float32),\n",
              " array([10.906], dtype=float32),\n",
              " array([10.549], dtype=float32),\n",
              " array([10.549], dtype=float32),\n",
              " array([10.549], dtype=float32),\n",
              " array([10.549], dtype=float32),\n",
              " array([10.553], dtype=float32),\n",
              " array([10.553], dtype=float32),\n",
              " array([10.133], dtype=float32),\n",
              " array([10.137], dtype=float32),\n",
              " array([10.223], dtype=float32),\n",
              " array([10.496], dtype=float32),\n",
              " array([12.209], dtype=float32),\n",
              " array([9.856], dtype=float32),\n",
              " array([9.485], dtype=float32),\n",
              " array([10.293], dtype=float32),\n",
              " array([10.293], dtype=float32),\n",
              " array([10.297], dtype=float32),\n",
              " array([10.248], dtype=float32),\n",
              " array([10.302], dtype=float32),\n",
              " array([12.407], dtype=float32),\n",
              " array([12.407], dtype=float32),\n",
              " array([12.405], dtype=float32),\n",
              " array([12.405], dtype=float32),\n",
              " array([10.468], dtype=float32),\n",
              " array([11.306], dtype=float32),\n",
              " array([10.594], dtype=float32),\n",
              " array([10.594], dtype=float32),\n",
              " array([10.599], dtype=float32),\n",
              " array([11.31], dtype=float32),\n",
              " array([10.599], dtype=float32),\n",
              " array([10.603], dtype=float32),\n",
              " array([9.442], dtype=float32),\n",
              " array([9.755], dtype=float32),\n",
              " array([9.702], dtype=float32),\n",
              " array([9.707], dtype=float32),\n",
              " array([9.707], dtype=float32),\n",
              " ...]"
            ]
          },
          "metadata": {
            "tags": []
          },
          "execution_count": 41
        }
      ]
    },
    {
      "cell_type": "code",
      "metadata": {
        "id": "F1whYsMoKFEL",
        "outputId": "91b2434f-3531-47e0-d9bd-c545eed46d7e",
        "colab": {
          "base_uri": "https://localhost:8080/"
        }
      },
      "source": [
        "import numpy as np\n",
        "\n",
        "conc = np.vstack(predictions)\n",
        "conc"
      ],
      "execution_count": 42,
      "outputs": [
        {
          "output_type": "execute_result",
          "data": {
            "text/plain": [
              "array([[10.509],\n",
              "       [ 9.679],\n",
              "       [ 9.679],\n",
              "       ...,\n",
              "       [10.032],\n",
              "       [10.522],\n",
              "       [10.527]], dtype=float32)"
            ]
          },
          "metadata": {
            "tags": []
          },
          "execution_count": 42
        }
      ]
    },
    {
      "cell_type": "code",
      "metadata": {
        "id": "xnCn2CtMKFMa",
        "outputId": "796f3bea-bfff-4434-aee1-fc765037f8b3",
        "colab": {
          "base_uri": "https://localhost:8080/"
        }
      },
      "source": [
        "ZHP = pd.DataFrame(conc)\n",
        "ZHP.rename(columns={0:'y_pred'}, inplace=True)\n",
        "\n",
        "kot = ZHP['y_pred'].values\n",
        "kot = kot.astype('float32')\n",
        "kot.dtype"
      ],
      "execution_count": 43,
      "outputs": [
        {
          "output_type": "execute_result",
          "data": {
            "text/plain": [
              "dtype('float32')"
            ]
          },
          "metadata": {
            "tags": []
          },
          "execution_count": 43
        }
      ]
    },
    {
      "cell_type": "code",
      "metadata": {
        "id": "cYSusofkKU2I",
        "outputId": "0aac3e61-1533-4cf9-a764-bbbe95ddc497",
        "colab": {
          "base_uri": "https://localhost:8080/"
        }
      },
      "source": [
        "y = df_test['new msrp'].values\n",
        "y = y.astype('float32')\n",
        "y.dtype"
      ],
      "execution_count": 44,
      "outputs": [
        {
          "output_type": "execute_result",
          "data": {
            "text/plain": [
              "dtype('float32')"
            ]
          },
          "metadata": {
            "tags": []
          },
          "execution_count": 44
        }
      ]
    },
    {
      "cell_type": "code",
      "metadata": {
        "id": "rgZdFecRKFPo",
        "outputId": "2c8535d4-4855-4cc5-96bf-e2bccade52bd",
        "colab": {
          "base_uri": "https://localhost:8080/"
        }
      },
      "source": [
        "PZU = pd.DataFrame({'y': y, 'y_pred': kot })\n",
        "PZU.dtypes"
      ],
      "execution_count": 45,
      "outputs": [
        {
          "output_type": "execute_result",
          "data": {
            "text/plain": [
              "y         float32\n",
              "y_pred    float32\n",
              "dtype: object"
            ]
          },
          "metadata": {
            "tags": []
          },
          "execution_count": 45
        }
      ]
    },
    {
      "cell_type": "code",
      "metadata": {
        "id": "qtVflP8lYiwO"
      },
      "source": [
        "def R_squared(y, y_pred):\n",
        "    \n",
        "  residual = tf.reduce_sum(tf.square(tf.subtract(y,y_pred)))\n",
        "  total = tf.reduce_sum(tf.square(tf.subtract(y, tf.reduce_mean(y))))\n",
        "  r2 = tf.subtract(1.0, tf.div(residual, total))\n",
        "  return r2"
      ],
      "execution_count": 46,
      "outputs": []
    },
    {
      "cell_type": "code",
      "metadata": {
        "id": "_N_TOjZFYi7W",
        "outputId": "0e4e2672-08a7-42af-cd66-12337a60dd41",
        "colab": {
          "base_uri": "https://localhost:8080/"
        }
      },
      "source": [
        "y.dtype\n"
      ],
      "execution_count": 47,
      "outputs": [
        {
          "output_type": "execute_result",
          "data": {
            "text/plain": [
              "dtype('float32')"
            ]
          },
          "metadata": {
            "tags": []
          },
          "execution_count": 47
        }
      ]
    },
    {
      "cell_type": "code",
      "metadata": {
        "id": "2FHAQiB-fBGW",
        "outputId": "58eadcf3-e144-4cb2-d13e-7d68cca59131",
        "colab": {
          "base_uri": "https://localhost:8080/"
        }
      },
      "source": [
        "kot.dtype\n"
      ],
      "execution_count": 48,
      "outputs": [
        {
          "output_type": "execute_result",
          "data": {
            "text/plain": [
              "dtype('float32')"
            ]
          },
          "metadata": {
            "tags": []
          },
          "execution_count": 48
        }
      ]
    },
    {
      "cell_type": "code",
      "metadata": {
        "id": "CuTb0iiNfBOe"
      },
      "source": [
        "residual = tf.reduce_sum(tf.square(tf.subtract(y,kot)))\n"
      ],
      "execution_count": 49,
      "outputs": []
    },
    {
      "cell_type": "code",
      "metadata": {
        "id": "TOtdwe7RfBRY"
      },
      "source": [
        "total = tf.reduce_sum(tf.square(tf.subtract(y, tf.reduce_mean(y))))\n"
      ],
      "execution_count": 50,
      "outputs": []
    },
    {
      "cell_type": "code",
      "metadata": {
        "id": "yHqMvOSGfBT9",
        "outputId": "40892b75-1146-43af-f20a-9a5182f0930f",
        "colab": {
          "base_uri": "https://localhost:8080/"
        }
      },
      "source": [
        "r2 = tf.subtract(1.0, tf.div(residual, total))\n"
      ],
      "execution_count": 51,
      "outputs": [
        {
          "output_type": "stream",
          "text": [
            "WARNING:tensorflow:From <ipython-input-51-d86596229bee>:1: div (from tensorflow.python.ops.math_ops) is deprecated and will be removed in a future version.\n",
            "Instructions for updating:\n",
            "Deprecated in favor of operator or tf.math.divide.\n"
          ],
          "name": "stdout"
        }
      ]
    },
    {
      "cell_type": "code",
      "metadata": {
        "id": "KBCn6s9bfBXG",
        "outputId": "1332de78-af4a-44b3-9b4b-02763720082a",
        "colab": {
          "base_uri": "https://localhost:8080/"
        }
      },
      "source": [
        "r2\n"
      ],
      "execution_count": 52,
      "outputs": [
        {
          "output_type": "execute_result",
          "data": {
            "text/plain": [
              "<tf.Tensor 'Sub_2:0' shape=() dtype=float32>"
            ]
          },
          "metadata": {
            "tags": []
          },
          "execution_count": 52
        }
      ]
    },
    {
      "cell_type": "code",
      "metadata": {
        "id": "hlksgpYkfBZj",
        "outputId": "cb4fc89a-da7c-4a50-e76d-d2b7223e5040",
        "colab": {
          "base_uri": "https://localhost:8080/"
        }
      },
      "source": [
        "sess = tf.Session()\n",
        "a = sess.run(r2)\n",
        "print('R Square parameter: ',a)"
      ],
      "execution_count": 53,
      "outputs": [
        {
          "output_type": "stream",
          "text": [
            "R Square parameter:  0.54184985\n"
          ],
          "name": "stdout"
        }
      ]
    },
    {
      "cell_type": "code",
      "metadata": {
        "id": "Y8HIOG1KYi-3"
      },
      "source": [
        ""
      ],
      "execution_count": null,
      "outputs": []
    },
    {
      "cell_type": "code",
      "metadata": {
        "id": "uERaP1t3YjCN"
      },
      "source": [
        ""
      ],
      "execution_count": null,
      "outputs": []
    }
  ]
}